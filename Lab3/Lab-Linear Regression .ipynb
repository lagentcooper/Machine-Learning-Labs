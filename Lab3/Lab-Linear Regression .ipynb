{
 "cells": [
  {
   "cell_type": "markdown",
   "metadata": {},
   "source": [
    "# Lab Linear regression"
   ]
  },
  {
   "cell_type": "markdown",
   "metadata": {},
   "source": [
    "In this Assignment, you will explore the **FIFA 19** dataset, which contains detailed attributes for every player registered in the latest edition of FIFA 19 database.    \n",
    "It was scrapped from this [website](https://sofifa.com/), and you can find the source code [here](https://github.com/amanthedorkknight/fifa18-all-player-statistics/tree/master/2019).\n",
    "\n",
    "Your goal is to find out how the `Overall` score by player is calculated\n",
    "\n",
    "There are 2 main parts:\n",
    "\n",
    "* Data Import & Cleaning, the output of this part is provided in the csv file `data_cleaned`, **so you do not need to have everything right in this part to do the second one**\n",
    "* Modeling with the cleaned data"
   ]
  },
  {
   "cell_type": "markdown",
   "metadata": {},
   "source": [
    "In the notebook, there will be cells in the form `assert condition` like the next one. They are used to check if an answer is correct.  \n",
    "Execute the next one and you will get no errors"
   ]
  },
  {
   "cell_type": "code",
   "execution_count": 1,
   "metadata": {},
   "outputs": [],
   "source": [
    "assert 3 < 5"
   ]
  },
  {
   "cell_type": "markdown",
   "metadata": {},
   "source": [
    "Execute the next one and you will get an error"
   ]
  },
  {
   "cell_type": "code",
   "execution_count": 2,
   "metadata": {},
   "outputs": [
    {
     "ename": "AssertionError",
     "evalue": "",
     "output_type": "error",
     "traceback": [
      "\u001b[1;31m---------------------------------------------------------------------------\u001b[0m",
      "\u001b[1;31mAssertionError\u001b[0m                            Traceback (most recent call last)",
      "\u001b[1;32m~\\AppData\\Local\\Temp/ipykernel_19464/3883695984.py\u001b[0m in \u001b[0;36m<module>\u001b[1;34m\u001b[0m\n\u001b[1;32m----> 1\u001b[1;33m \u001b[1;32massert\u001b[0m \u001b[1;36m3\u001b[0m \u001b[1;33m>\u001b[0m \u001b[1;36m5\u001b[0m\u001b[1;33m\u001b[0m\u001b[1;33m\u001b[0m\u001b[0m\n\u001b[0m",
      "\u001b[1;31mAssertionError\u001b[0m: "
     ]
    }
   ],
   "source": [
    "assert 3 > 5"
   ]
  },
  {
   "cell_type": "markdown",
   "metadata": {},
   "source": [
    "# Data Import"
   ]
  },
  {
   "cell_type": "code",
   "execution_count": 10,
   "metadata": {},
   "outputs": [],
   "source": [
    "import pandas as pd\n",
    "import numpy as np\n",
    "import matplotlib.pyplot as plt\n",
    "%matplotlib inline"
   ]
  },
  {
   "cell_type": "markdown",
   "metadata": {},
   "source": [
    "1.1. Load the csv file `data.csv` into a dataframe called `df` and print its shape. (Set the right parameters when reading the csv file)       "
   ]
  },
  {
   "cell_type": "code",
   "execution_count": 11,
   "metadata": {},
   "outputs": [
    {
     "name": "stdout",
     "output_type": "stream",
     "text": [
      "(18207, 88)\n"
     ]
    }
   ],
   "source": [
    "df = pd.read_csv('data.csv',index_col=0)\n",
    "print(df.shape)"
   ]
  },
  {
   "cell_type": "code",
   "execution_count": 12,
   "metadata": {},
   "outputs": [],
   "source": [
    "# check if your answer is correct\n",
    "assert df.shape == (18207, 88)"
   ]
  },
  {
   "cell_type": "markdown",
   "metadata": {},
   "source": [
    "1.2. print the head of `df`"
   ]
  },
  {
   "cell_type": "code",
   "execution_count": 13,
   "metadata": {},
   "outputs": [
    {
     "name": "stdout",
     "output_type": "stream",
     "text": [
      "       ID      Name  Age                                           Photo  \\\n",
      "0  158023  L. Messi   31  https://cdn.sofifa.org/players/4/19/158023.png   \n",
      "\n",
      "  Nationality                                 Flag  Overall  Potential  \\\n",
      "0   Argentina  https://cdn.sofifa.org/flags/52.png       94         94   \n",
      "\n",
      "           Club                                     Club Logo  ... Composure  \\\n",
      "0  FC Barcelona  https://cdn.sofifa.org/teams/2/light/241.png  ...      96.0   \n",
      "\n",
      "  Marking  StandingTackle SlidingTackle  GKDiving  GKHandling  GKKicking  \\\n",
      "0    33.0            28.0          26.0       6.0        11.0       15.0   \n",
      "\n",
      "  GKPositioning GKReflexes Release Clause  \n",
      "0          14.0        8.0        €226.5M  \n",
      "\n",
      "[1 rows x 88 columns]\n"
     ]
    }
   ],
   "source": [
    "# your code here\n",
    "print(df.head(1))"
   ]
  },
  {
   "cell_type": "markdown",
   "metadata": {},
   "source": [
    "1.3. Print how many columns that are in df columns types"
   ]
  },
  {
   "cell_type": "code",
   "execution_count": 16,
   "metadata": {},
   "outputs": [
    {
     "name": "stdout",
     "output_type": "stream",
     "text": [
      "77\n"
     ]
    }
   ],
   "source": [
    "print(df.shape[1])\n",
    "# your code here"
   ]
  },
  {
   "cell_type": "markdown",
   "metadata": {},
   "source": [
    "1.4. `to_drop` is a list containing columns that are not useful for modeling, remove them and print the new shape of `df`"
   ]
  },
  {
   "cell_type": "code",
   "execution_count": 14,
   "metadata": {},
   "outputs": [
    {
     "name": "stdout",
     "output_type": "stream",
     "text": [
      "(18207, 77)\n"
     ]
    }
   ],
   "source": [
    "to_drop =['ID', 'Name', 'Photo','Nationality', 'Flag','Club','Club Logo', 'Real Face', 'Joined', 'Loaned From', 'Contract Valid Until']\n",
    "df.drop(to_drop, axis=1,inplace=True)\n",
    "print(df.shape)"
   ]
  },
  {
   "cell_type": "code",
   "execution_count": 15,
   "metadata": {},
   "outputs": [],
   "source": [
    "# check if your answer is correct\n",
    "assert df.shape == (18207, 77)"
   ]
  },
  {
   "cell_type": "markdown",
   "metadata": {},
   "source": [
    "# Data Cleaning"
   ]
  },
  {
   "cell_type": "markdown",
   "metadata": {},
   "source": [
    "## Handling missing values"
   ]
  },
  {
   "cell_type": "markdown",
   "metadata": {},
   "source": [
    "2.1. Build a dataframe called `missing` which has the following format:\n",
    "\n",
    "* `pct` is the percentage of missing values, **takes values between `0` and `100`**\n",
    "* the index is the column names\n",
    "\n",
    "|     | pct |\n",
    "|-----|-----|\n",
    "|......|.....|\n",
    "|Strength |0.263635|\n",
    "|.....|.....|\n",
    "\n"
   ]
  },
  {
   "cell_type": "code",
   "execution_count": 17,
   "metadata": {},
   "outputs": [
    {
     "name": "stdout",
     "output_type": "stream",
     "text": [
      "                         index       pct\n",
      "Age                        Age  0.000000\n",
      "Overall                Overall  0.000000\n",
      "Potential            Potential  0.000000\n",
      "Value                    Value  0.000000\n",
      "Wage                      Wage  0.000000\n",
      "...                        ...       ...\n",
      "GKHandling          GKHandling  0.263635\n",
      "GKKicking            GKKicking  0.263635\n",
      "GKPositioning    GKPositioning  0.263635\n",
      "GKReflexes          GKReflexes  0.263635\n",
      "Release Clause  Release Clause  8.590103\n",
      "\n",
      "[77 rows x 2 columns]\n"
     ]
    }
   ],
   "source": [
    "p_missing = df.isnull().sum() * 100 / len(df)\n",
    "missing = pd.DataFrame({'index': df.columns,\n",
    "                                 'pct': p_missing})\n",
    "print(missing)"
   ]
  },
  {
   "cell_type": "markdown",
   "metadata": {},
   "source": [
    "2.2. Remove from `missing`, rows with `pct`= 0   \n",
    "sort `missing` in ascending order of `pct` and print its head"
   ]
  },
  {
   "cell_type": "code",
   "execution_count": 18,
   "metadata": {},
   "outputs": [
    {
     "name": "stdout",
     "output_type": "stream",
     "text": [
      "                         index        pct\n",
      "Preferred Foot  Preferred Foot   0.263635\n",
      "Strength              Strength   0.263635\n",
      "Stamina                Stamina   0.263635\n",
      "Jumping                Jumping   0.263635\n",
      "ShotPower            ShotPower   0.263635\n",
      "...                        ...        ...\n",
      "RWB                        RWB  11.451639\n",
      "LB                          LB  11.451639\n",
      "LCB                        LCB  11.451639\n",
      "RCB                        RCB  11.451639\n",
      "RB                          RB  11.451639\n",
      "\n",
      "[71 rows x 2 columns]\n"
     ]
    }
   ],
   "source": [
    "# your code here\n",
    "missing = missing[missing['pct'] != 0]\n",
    "missing.sort_values('pct', ascending=True,inplace=True)\n",
    "print(missing)"
   ]
  },
  {
   "cell_type": "markdown",
   "metadata": {},
   "source": [
    "2.3. Now, let's fill missing values where the % of missing is lower than 1 (1%).   \n",
    "First identify these columns in a list named `cols_to_fill`"
   ]
  },
  {
   "cell_type": "code",
   "execution_count": 20,
   "metadata": {},
   "outputs": [
    {
     "name": "stdout",
     "output_type": "stream",
     "text": [
      "44 <class 'list'>\n",
      "                                             index       pct\n",
      "Preferred Foot                      Preferred Foot  0.263635\n",
      "Strength                                  Strength  0.263635\n",
      "Stamina                                    Stamina  0.263635\n",
      "Jumping                                    Jumping  0.263635\n",
      "ShotPower                                ShotPower  0.263635\n",
      "Balance                                    Balance  0.263635\n",
      "Reactions                                Reactions  0.263635\n",
      "Agility                                    Agility  0.263635\n",
      "SprintSpeed                            SprintSpeed  0.263635\n",
      "LongShots                                LongShots  0.263635\n",
      "Acceleration                          Acceleration  0.263635\n",
      "LongPassing                            LongPassing  0.263635\n",
      "GKReflexes                              GKReflexes  0.263635\n",
      "Crossing                                  Crossing  0.263635\n",
      "Finishing                                Finishing  0.263635\n",
      "HeadingAccuracy                    HeadingAccuracy  0.263635\n",
      "ShortPassing                          ShortPassing  0.263635\n",
      "Volleys                                    Volleys  0.263635\n",
      "Dribbling                                Dribbling  0.263635\n",
      "BallControl                            BallControl  0.263635\n",
      "Aggression                              Aggression  0.263635\n",
      "Interceptions                        Interceptions  0.263635\n",
      "Positioning                            Positioning  0.263635\n",
      "International Reputation  International Reputation  0.263635\n",
      "Weak Foot                                Weak Foot  0.263635\n",
      "Skill Moves                            Skill Moves  0.263635\n",
      "Work Rate                                Work Rate  0.263635\n",
      "Body Type                                Body Type  0.263635\n",
      "Height                                      Height  0.263635\n",
      "Weight                                      Weight  0.263635\n",
      "Curve                                        Curve  0.263635\n",
      "GKPositioning                        GKPositioning  0.263635\n",
      "GKHandling                              GKHandling  0.263635\n",
      "GKDiving                                  GKDiving  0.263635\n",
      "SlidingTackle                        SlidingTackle  0.263635\n",
      "StandingTackle                      StandingTackle  0.263635\n",
      "Marking                                    Marking  0.263635\n",
      "Composure                                Composure  0.263635\n",
      "Penalties                                Penalties  0.263635\n",
      "Vision                                      Vision  0.263635\n",
      "GKKicking                                GKKicking  0.263635\n",
      "FKAccuracy                              FKAccuracy  0.263635\n",
      "Jersey Number                        Jersey Number  0.329544\n",
      "Position                                  Position  0.329544\n"
     ]
    }
   ],
   "source": [
    "# your code here\n",
    "cols_to_fill_df = missing.loc[missing['pct'] < 1]\n",
    "cols_to_fill = cols_to_fill_df.values.tolist()\n",
    "print(len(cols_to_fill), type(cols_to_fill))\n",
    "print(cols_to_fill_df)"
   ]
  },
  {
   "cell_type": "code",
   "execution_count": 21,
   "metadata": {},
   "outputs": [],
   "source": [
    "# check if your answer is correct\n",
    "assert len(cols_to_fill) == 44; assert isinstance(cols_to_fill, list)"
   ]
  },
  {
   "cell_type": "markdown",
   "metadata": {},
   "source": [
    "2.4. define a function (`fill_nas_by_type`) to fill null values by column type:\n",
    "\n",
    "* if a column type is `Object`, fill it with the **most frequent value**\n",
    "* otherwise, fill it with the **median value**"
   ]
  },
  {
   "cell_type": "code",
   "execution_count": 22,
   "metadata": {
    "code_folding": []
   },
   "outputs": [],
   "source": [
    "def fill_nas_by_type(df, col_name):\n",
    "    \"\"\"Fill null values in df according to col_name type\n",
    "    \n",
    "    Parameters\n",
    "    ----------\n",
    "    df : dataframe, (default=None)\n",
    "        input dataframe\n",
    "    col_name : str, (default=None)\n",
    "        column with null values to fill\n",
    "        \n",
    "    Returns\n",
    "    -------\n",
    "    df with filled values in col_name\n",
    "    \"\"\"\n",
    "    if df[col_name].dtype == object:\n",
    "        df[col_name] = df[col_name].fillna(df[col_name].value_counts()[:1].index.tolist()[0])\n",
    "    else:\n",
    "        df[col_name] = df[col_name].fillna(float(df[col_name].median()))\n",
    "    return df"
   ]
  },
  {
   "cell_type": "markdown",
   "metadata": {},
   "source": [
    "Loop through `cols_to_fill` and apply the defined function `fill_nas_by_type` to fill null values"
   ]
  },
  {
   "cell_type": "code",
   "execution_count": 23,
   "metadata": {},
   "outputs": [
    {
     "name": "stdout",
     "output_type": "stream",
     "text": [
      "57910\n",
      "55774\n"
     ]
    }
   ],
   "source": [
    "# your code here\n",
    "print(df.isnull().sum().sum())\n",
    "for x in cols_to_fill:\n",
    "     df = fill_nas_by_type(df, x[0])\n",
    "print(df.isnull().sum().sum())"
   ]
  },
  {
   "cell_type": "code",
   "execution_count": 24,
   "metadata": {},
   "outputs": [
    {
     "ename": "KeyError",
     "evalue": "\"None of [Index([          ('Preferred Foot', 0.26363486571099026),\\n                       ('Strength', 0.26363486571099026),\\n                        ('Stamina', 0.26363486571099026),\\n                        ('Jumping', 0.26363486571099026),\\n                      ('ShotPower', 0.26363486571099026),\\n                        ('Balance', 0.26363486571099026),\\n                      ('Reactions', 0.26363486571099026),\\n                        ('Agility', 0.26363486571099026),\\n                    ('SprintSpeed', 0.26363486571099026),\\n                      ('LongShots', 0.26363486571099026),\\n                   ('Acceleration', 0.26363486571099026),\\n                    ('LongPassing', 0.26363486571099026),\\n                     ('GKReflexes', 0.26363486571099026),\\n                       ('Crossing', 0.26363486571099026),\\n                      ('Finishing', 0.26363486571099026),\\n                ('HeadingAccuracy', 0.26363486571099026),\\n                   ('ShortPassing', 0.26363486571099026),\\n                        ('Volleys', 0.26363486571099026),\\n                      ('Dribbling', 0.26363486571099026),\\n                    ('BallControl', 0.26363486571099026),\\n                     ('Aggression', 0.26363486571099026),\\n                  ('Interceptions', 0.26363486571099026),\\n                    ('Positioning', 0.26363486571099026),\\n       ('International Reputation', 0.26363486571099026),\\n                      ('Weak Foot', 0.26363486571099026),\\n                    ('Skill Moves', 0.26363486571099026),\\n                      ('Work Rate', 0.26363486571099026),\\n                      ('Body Type', 0.26363486571099026),\\n                         ('Height', 0.26363486571099026),\\n                         ('Weight', 0.26363486571099026),\\n                          ('Curve', 0.26363486571099026),\\n                  ('GKPositioning', 0.26363486571099026),\\n                     ('GKHandling', 0.26363486571099026),\\n                       ('GKDiving', 0.26363486571099026),\\n                  ('SlidingTackle', 0.26363486571099026),\\n                 ('StandingTackle', 0.26363486571099026),\\n                        ('Marking', 0.26363486571099026),\\n                      ('Composure', 0.26363486571099026),\\n                      ('Penalties', 0.26363486571099026),\\n                         ('Vision', 0.26363486571099026),\\n                      ('GKKicking', 0.26363486571099026),\\n                     ('FKAccuracy', 0.26363486571099026),\\n                  ('Jersey Number', 0.32954358213873786),\\n                       ('Position', 0.32954358213873786)],\\n      dtype='object')] are in the [columns]\"",
     "output_type": "error",
     "traceback": [
      "\u001b[1;31m---------------------------------------------------------------------------\u001b[0m",
      "\u001b[1;31mKeyError\u001b[0m                                  Traceback (most recent call last)",
      "\u001b[1;32m~\\AppData\\Local\\Temp/ipykernel_19464/1632495473.py\u001b[0m in \u001b[0;36m<module>\u001b[1;34m\u001b[0m\n\u001b[0;32m      1\u001b[0m \u001b[1;31m# check if your answer is correct\u001b[0m\u001b[1;33m\u001b[0m\u001b[1;33m\u001b[0m\u001b[0m\n\u001b[1;32m----> 2\u001b[1;33m \u001b[1;32massert\u001b[0m \u001b[0mdf\u001b[0m\u001b[1;33m[\u001b[0m\u001b[0mcols_to_fill\u001b[0m\u001b[1;33m]\u001b[0m\u001b[1;33m.\u001b[0m\u001b[0misnull\u001b[0m\u001b[1;33m(\u001b[0m\u001b[1;33m)\u001b[0m\u001b[1;33m.\u001b[0m\u001b[0msum\u001b[0m\u001b[1;33m(\u001b[0m\u001b[1;33m)\u001b[0m\u001b[1;33m.\u001b[0m\u001b[0msum\u001b[0m\u001b[1;33m(\u001b[0m\u001b[1;33m)\u001b[0m \u001b[1;33m==\u001b[0m \u001b[1;36m0\u001b[0m\u001b[1;33m\u001b[0m\u001b[1;33m\u001b[0m\u001b[0m\n\u001b[0m",
      "\u001b[1;32m~\\anaconda3\\lib\\site-packages\\pandas\\core\\frame.py\u001b[0m in \u001b[0;36m__getitem__\u001b[1;34m(self, key)\u001b[0m\n\u001b[0;32m   3462\u001b[0m             \u001b[1;32mif\u001b[0m \u001b[0mis_iterator\u001b[0m\u001b[1;33m(\u001b[0m\u001b[0mkey\u001b[0m\u001b[1;33m)\u001b[0m\u001b[1;33m:\u001b[0m\u001b[1;33m\u001b[0m\u001b[1;33m\u001b[0m\u001b[0m\n\u001b[0;32m   3463\u001b[0m                 \u001b[0mkey\u001b[0m \u001b[1;33m=\u001b[0m \u001b[0mlist\u001b[0m\u001b[1;33m(\u001b[0m\u001b[0mkey\u001b[0m\u001b[1;33m)\u001b[0m\u001b[1;33m\u001b[0m\u001b[1;33m\u001b[0m\u001b[0m\n\u001b[1;32m-> 3464\u001b[1;33m             \u001b[0mindexer\u001b[0m \u001b[1;33m=\u001b[0m \u001b[0mself\u001b[0m\u001b[1;33m.\u001b[0m\u001b[0mloc\u001b[0m\u001b[1;33m.\u001b[0m\u001b[0m_get_listlike_indexer\u001b[0m\u001b[1;33m(\u001b[0m\u001b[0mkey\u001b[0m\u001b[1;33m,\u001b[0m \u001b[0maxis\u001b[0m\u001b[1;33m=\u001b[0m\u001b[1;36m1\u001b[0m\u001b[1;33m)\u001b[0m\u001b[1;33m[\u001b[0m\u001b[1;36m1\u001b[0m\u001b[1;33m]\u001b[0m\u001b[1;33m\u001b[0m\u001b[1;33m\u001b[0m\u001b[0m\n\u001b[0m\u001b[0;32m   3465\u001b[0m \u001b[1;33m\u001b[0m\u001b[0m\n\u001b[0;32m   3466\u001b[0m         \u001b[1;31m# take() does not accept boolean indexers\u001b[0m\u001b[1;33m\u001b[0m\u001b[1;33m\u001b[0m\u001b[0m\n",
      "\u001b[1;32m~\\anaconda3\\lib\\site-packages\\pandas\\core\\indexing.py\u001b[0m in \u001b[0;36m_get_listlike_indexer\u001b[1;34m(self, key, axis)\u001b[0m\n\u001b[0;32m   1312\u001b[0m             \u001b[0mkeyarr\u001b[0m\u001b[1;33m,\u001b[0m \u001b[0mindexer\u001b[0m\u001b[1;33m,\u001b[0m \u001b[0mnew_indexer\u001b[0m \u001b[1;33m=\u001b[0m \u001b[0max\u001b[0m\u001b[1;33m.\u001b[0m\u001b[0m_reindex_non_unique\u001b[0m\u001b[1;33m(\u001b[0m\u001b[0mkeyarr\u001b[0m\u001b[1;33m)\u001b[0m\u001b[1;33m\u001b[0m\u001b[1;33m\u001b[0m\u001b[0m\n\u001b[0;32m   1313\u001b[0m \u001b[1;33m\u001b[0m\u001b[0m\n\u001b[1;32m-> 1314\u001b[1;33m         \u001b[0mself\u001b[0m\u001b[1;33m.\u001b[0m\u001b[0m_validate_read_indexer\u001b[0m\u001b[1;33m(\u001b[0m\u001b[0mkeyarr\u001b[0m\u001b[1;33m,\u001b[0m \u001b[0mindexer\u001b[0m\u001b[1;33m,\u001b[0m \u001b[0maxis\u001b[0m\u001b[1;33m)\u001b[0m\u001b[1;33m\u001b[0m\u001b[1;33m\u001b[0m\u001b[0m\n\u001b[0m\u001b[0;32m   1315\u001b[0m \u001b[1;33m\u001b[0m\u001b[0m\n\u001b[0;32m   1316\u001b[0m         if needs_i8_conversion(ax.dtype) or isinstance(\n",
      "\u001b[1;32m~\\anaconda3\\lib\\site-packages\\pandas\\core\\indexing.py\u001b[0m in \u001b[0;36m_validate_read_indexer\u001b[1;34m(self, key, indexer, axis)\u001b[0m\n\u001b[0;32m   1372\u001b[0m                 \u001b[1;32mif\u001b[0m \u001b[0muse_interval_msg\u001b[0m\u001b[1;33m:\u001b[0m\u001b[1;33m\u001b[0m\u001b[1;33m\u001b[0m\u001b[0m\n\u001b[0;32m   1373\u001b[0m                     \u001b[0mkey\u001b[0m \u001b[1;33m=\u001b[0m \u001b[0mlist\u001b[0m\u001b[1;33m(\u001b[0m\u001b[0mkey\u001b[0m\u001b[1;33m)\u001b[0m\u001b[1;33m\u001b[0m\u001b[1;33m\u001b[0m\u001b[0m\n\u001b[1;32m-> 1374\u001b[1;33m                 \u001b[1;32mraise\u001b[0m \u001b[0mKeyError\u001b[0m\u001b[1;33m(\u001b[0m\u001b[1;34mf\"None of [{key}] are in the [{axis_name}]\"\u001b[0m\u001b[1;33m)\u001b[0m\u001b[1;33m\u001b[0m\u001b[1;33m\u001b[0m\u001b[0m\n\u001b[0m\u001b[0;32m   1375\u001b[0m \u001b[1;33m\u001b[0m\u001b[0m\n\u001b[0;32m   1376\u001b[0m             \u001b[0mnot_found\u001b[0m \u001b[1;33m=\u001b[0m \u001b[0mlist\u001b[0m\u001b[1;33m(\u001b[0m\u001b[0mensure_index\u001b[0m\u001b[1;33m(\u001b[0m\u001b[0mkey\u001b[0m\u001b[1;33m)\u001b[0m\u001b[1;33m[\u001b[0m\u001b[0mmissing_mask\u001b[0m\u001b[1;33m.\u001b[0m\u001b[0mnonzero\u001b[0m\u001b[1;33m(\u001b[0m\u001b[1;33m)\u001b[0m\u001b[1;33m[\u001b[0m\u001b[1;36m0\u001b[0m\u001b[1;33m]\u001b[0m\u001b[1;33m]\u001b[0m\u001b[1;33m.\u001b[0m\u001b[0munique\u001b[0m\u001b[1;33m(\u001b[0m\u001b[1;33m)\u001b[0m\u001b[1;33m)\u001b[0m\u001b[1;33m\u001b[0m\u001b[1;33m\u001b[0m\u001b[0m\n",
      "\u001b[1;31mKeyError\u001b[0m: \"None of [Index([          ('Preferred Foot', 0.26363486571099026),\\n                       ('Strength', 0.26363486571099026),\\n                        ('Stamina', 0.26363486571099026),\\n                        ('Jumping', 0.26363486571099026),\\n                      ('ShotPower', 0.26363486571099026),\\n                        ('Balance', 0.26363486571099026),\\n                      ('Reactions', 0.26363486571099026),\\n                        ('Agility', 0.26363486571099026),\\n                    ('SprintSpeed', 0.26363486571099026),\\n                      ('LongShots', 0.26363486571099026),\\n                   ('Acceleration', 0.26363486571099026),\\n                    ('LongPassing', 0.26363486571099026),\\n                     ('GKReflexes', 0.26363486571099026),\\n                       ('Crossing', 0.26363486571099026),\\n                      ('Finishing', 0.26363486571099026),\\n                ('HeadingAccuracy', 0.26363486571099026),\\n                   ('ShortPassing', 0.26363486571099026),\\n                        ('Volleys', 0.26363486571099026),\\n                      ('Dribbling', 0.26363486571099026),\\n                    ('BallControl', 0.26363486571099026),\\n                     ('Aggression', 0.26363486571099026),\\n                  ('Interceptions', 0.26363486571099026),\\n                    ('Positioning', 0.26363486571099026),\\n       ('International Reputation', 0.26363486571099026),\\n                      ('Weak Foot', 0.26363486571099026),\\n                    ('Skill Moves', 0.26363486571099026),\\n                      ('Work Rate', 0.26363486571099026),\\n                      ('Body Type', 0.26363486571099026),\\n                         ('Height', 0.26363486571099026),\\n                         ('Weight', 0.26363486571099026),\\n                          ('Curve', 0.26363486571099026),\\n                  ('GKPositioning', 0.26363486571099026),\\n                     ('GKHandling', 0.26363486571099026),\\n                       ('GKDiving', 0.26363486571099026),\\n                  ('SlidingTackle', 0.26363486571099026),\\n                 ('StandingTackle', 0.26363486571099026),\\n                        ('Marking', 0.26363486571099026),\\n                      ('Composure', 0.26363486571099026),\\n                      ('Penalties', 0.26363486571099026),\\n                         ('Vision', 0.26363486571099026),\\n                      ('GKKicking', 0.26363486571099026),\\n                     ('FKAccuracy', 0.26363486571099026),\\n                  ('Jersey Number', 0.32954358213873786),\\n                       ('Position', 0.32954358213873786)],\\n      dtype='object')] are in the [columns]\""
     ]
    }
   ],
   "source": [
    "# check if your answer is correct\n",
    "assert df[cols_to_fill].isnull().sum().sum() == 0"
   ]
  },
  {
   "cell_type": "markdown",
   "metadata": {},
   "source": [
    "For the remaining missing values, let's just remove them.    \n",
    "Print the shape of `df` before and after removing any rows with missing observations"
   ]
  },
  {
   "cell_type": "code",
   "execution_count": 25,
   "metadata": {},
   "outputs": [
    {
     "name": "stdout",
     "output_type": "stream",
     "text": [
      "(18207, 77)\n",
      "(14743, 77)\n"
     ]
    }
   ],
   "source": [
    "# your code here\n",
    "print(df.shape)\n",
    "df.dropna(inplace=True)\n",
    "print(df.shape)"
   ]
  },
  {
   "cell_type": "code",
   "execution_count": 26,
   "metadata": {},
   "outputs": [],
   "source": [
    "# check if your answer is correct\n",
    "assert df.shape == (14743, 77); assert df.isnull().sum().sum() == 0"
   ]
  },
  {
   "cell_type": "markdown",
   "metadata": {
    "heading_collapsed": true
   },
   "source": [
    "## Correct some columns format"
   ]
  },
  {
   "cell_type": "markdown",
   "metadata": {
    "hidden": true
   },
   "source": [
    "### Monetary columns"
   ]
  },
  {
   "cell_type": "code",
   "execution_count": 27,
   "metadata": {
    "hidden": true
   },
   "outputs": [
    {
     "data": {
      "text/html": [
       "<div>\n",
       "<style scoped>\n",
       "    .dataframe tbody tr th:only-of-type {\n",
       "        vertical-align: middle;\n",
       "    }\n",
       "\n",
       "    .dataframe tbody tr th {\n",
       "        vertical-align: top;\n",
       "    }\n",
       "\n",
       "    .dataframe thead th {\n",
       "        text-align: right;\n",
       "    }\n",
       "</style>\n",
       "<table border=\"1\" class=\"dataframe\">\n",
       "  <thead>\n",
       "    <tr style=\"text-align: right;\">\n",
       "      <th></th>\n",
       "      <th>Value</th>\n",
       "      <th>Wage</th>\n",
       "      <th>Release Clause</th>\n",
       "    </tr>\n",
       "  </thead>\n",
       "  <tbody>\n",
       "    <tr>\n",
       "      <th>0</th>\n",
       "      <td>€110.5M</td>\n",
       "      <td>€565K</td>\n",
       "      <td>€226.5M</td>\n",
       "    </tr>\n",
       "    <tr>\n",
       "      <th>1</th>\n",
       "      <td>€77M</td>\n",
       "      <td>€405K</td>\n",
       "      <td>€127.1M</td>\n",
       "    </tr>\n",
       "    <tr>\n",
       "      <th>2</th>\n",
       "      <td>€118.5M</td>\n",
       "      <td>€290K</td>\n",
       "      <td>€228.1M</td>\n",
       "    </tr>\n",
       "    <tr>\n",
       "      <th>4</th>\n",
       "      <td>€102M</td>\n",
       "      <td>€355K</td>\n",
       "      <td>€196.4M</td>\n",
       "    </tr>\n",
       "    <tr>\n",
       "      <th>5</th>\n",
       "      <td>€93M</td>\n",
       "      <td>€340K</td>\n",
       "      <td>€172.1M</td>\n",
       "    </tr>\n",
       "  </tbody>\n",
       "</table>\n",
       "</div>"
      ],
      "text/plain": [
       "     Value   Wage Release Clause\n",
       "0  €110.5M  €565K        €226.5M\n",
       "1     €77M  €405K        €127.1M\n",
       "2  €118.5M  €290K        €228.1M\n",
       "4    €102M  €355K        €196.4M\n",
       "5     €93M  €340K        €172.1M"
      ]
     },
     "execution_count": 27,
     "metadata": {},
     "output_type": "execute_result"
    }
   ],
   "source": [
    "money_cols = ['Value','Wage', 'Release Clause']\n",
    "df[money_cols].head()"
   ]
  },
  {
   "cell_type": "markdown",
   "metadata": {
    "hidden": true
   },
   "source": [
    "3.1. Build a function which extracts the monetary value from a string. It should return a number with no decimals.   \n",
    "Your function should pass the three tests in the cell after"
   ]
  },
  {
   "cell_type": "code",
   "execution_count": 30,
   "metadata": {
    "code_folding": [
     0
    ],
    "hidden": true
   },
   "outputs": [],
   "source": [
    "def get_value(value_text):\n",
    "    \"\"\"Extract the monetary value from a string\n",
    "    \n",
    "    Parameters\n",
    "    ----------\n",
    "    value_text: str, (default=None)\n",
    "        a string containing a number ending with M, K or nothing\n",
    "        \n",
    "    Returns\n",
    "    -------\n",
    "    a float with no decimals\n",
    "    \n",
    "    Examples\n",
    "    --------\n",
    "    >>> get_value('€7.1K')\n",
    "    7100.0\n",
    "    \"\"\"\n",
    "    multiplier = value_text[-1]\n",
    "    if multiplier == 'M':\n",
    "        number = float(value_text[1:-1])\n",
    "        return number * 1000000\n",
    "    elif multiplier == 'K':\n",
    "        number = float(value_text[1:-1])\n",
    "        return number * 1000\n",
    "    else:\n",
    "        return float(value_text[1:])    "
   ]
  },
  {
   "cell_type": "code",
   "execution_count": 31,
   "metadata": {
    "hidden": true
   },
   "outputs": [],
   "source": [
    "# check if your answer is correct\n",
    "assert get_value('€110.5M') == 110500000; assert get_value('€7.1K') == 7100; assert get_value('€200') == 200"
   ]
  },
  {
   "cell_type": "markdown",
   "metadata": {
    "hidden": true
   },
   "source": [
    "3.2. Loop through `money_cols` and apply the defined function `get_value` to convert them to numeric"
   ]
  },
  {
   "cell_type": "code",
   "execution_count": 32,
   "metadata": {
    "hidden": true
   },
   "outputs": [
    {
     "name": "stdout",
     "output_type": "stream",
     "text": [
      "Value float64 0\n",
      "Wage float64 0\n",
      "Release Clause float64 0\n"
     ]
    }
   ],
   "source": [
    "for f in money_cols:\n",
    "    df[f] =df[f].apply(get_value)\n",
    "    print(f, df[f].dtype, df[f].isnull().sum())"
   ]
  },
  {
   "cell_type": "code",
   "execution_count": 33,
   "metadata": {
    "hidden": true
   },
   "outputs": [],
   "source": [
    "# check if your answer is correct\n",
    "assert df[money_cols].isnull().sum().sum() == 0"
   ]
  },
  {
   "cell_type": "markdown",
   "metadata": {
    "hidden": true
   },
   "source": [
    "### Height and Weight columns"
   ]
  },
  {
   "cell_type": "markdown",
   "metadata": {
    "hidden": true
   },
   "source": [
    "4.1. Start by printing the unique values for `Height`"
   ]
  },
  {
   "cell_type": "code",
   "execution_count": 34,
   "metadata": {
    "hidden": true
   },
   "outputs": [
    {
     "data": {
      "text/plain": [
       "array([\"5'7\", \"6'2\", \"5'9\", \"5'11\", \"5'8\", \"6'0\", \"5'6\", \"5'10\", \"6'1\",\n",
       "       \"5'4\", \"6'3\", \"6'4\", \"5'5\", \"6'6\", \"6'5\", \"5'3\", \"5'2\", \"6'7\",\n",
       "       \"5'1\", \"6'8\"], dtype=object)"
      ]
     },
     "execution_count": 34,
     "metadata": {},
     "output_type": "execute_result"
    }
   ],
   "source": [
    "# print unique values for Height\n",
    "df['Height'].unique()"
   ]
  },
  {
   "cell_type": "markdown",
   "metadata": {
    "hidden": true
   },
   "source": [
    "4.2. Write a function (`get_height`) which converts the Height from a string in feet to  a number in `cm` with no decimals.    \n",
    "1 feet = 30.48 cm. For example `get_height(\"5'10\")` = `155`"
   ]
  },
  {
   "cell_type": "code",
   "execution_count": 35,
   "metadata": {
    "hidden": true
   },
   "outputs": [],
   "source": [
    "def get_height(x):\n",
    "    return  round(float(x.replace(\"'\", \".\")) * 30.48, 0) "
   ]
  },
  {
   "cell_type": "code",
   "execution_count": 36,
   "metadata": {
    "hidden": true
   },
   "outputs": [],
   "source": [
    "# check if your answer is correct\n",
    "assert get_height(\"5'10\") == 155; assert get_height(\"6'8\") == 207"
   ]
  },
  {
   "cell_type": "markdown",
   "metadata": {
    "hidden": true
   },
   "source": [
    "Apply the previous defined function on `Height`"
   ]
  },
  {
   "cell_type": "code",
   "execution_count": 37,
   "metadata": {
    "hidden": true
   },
   "outputs": [],
   "source": [
    "df['Height'] = df['Height'].apply(get_height)"
   ]
  },
  {
   "cell_type": "code",
   "execution_count": 38,
   "metadata": {
    "hidden": true
   },
   "outputs": [],
   "source": [
    "# check if your answer is correct\n",
    "assert df['Height'].dtype == 'float64'; assert df['Height'].isnull().sum() == 0"
   ]
  },
  {
   "cell_type": "markdown",
   "metadata": {
    "hidden": true
   },
   "source": [
    "4.3. The same thing with `Weight`, print the unique values"
   ]
  },
  {
   "cell_type": "code",
   "execution_count": 41,
   "metadata": {
    "hidden": true
   },
   "outputs": [
    {
     "data": {
      "text/plain": [
       "array(['159lbs', '183lbs', '150lbs', '154lbs', '163lbs', '146lbs',\n",
       "       '190lbs', '181lbs', '176lbs', '168lbs', '172lbs', '148lbs',\n",
       "       '165lbs', '196lbs', '161lbs', '170lbs', '187lbs', '157lbs',\n",
       "       '185lbs', '130lbs', '174lbs', '203lbs', '207lbs', '134lbs',\n",
       "       '141lbs', '152lbs', '179lbs', '132lbs', '198lbs', '201lbs',\n",
       "       '209lbs', '214lbs', '143lbs', '192lbs', '137lbs', '194lbs',\n",
       "       '139lbs', '220lbs', '205lbs', '216lbs', '126lbs', '123lbs',\n",
       "       '128lbs', '223lbs', '212lbs', '121lbs', '115lbs', '218lbs',\n",
       "       '117lbs', '243lbs', '110lbs', '119lbs', '234lbs'], dtype=object)"
      ]
     },
     "execution_count": 41,
     "metadata": {},
     "output_type": "execute_result"
    }
   ],
   "source": [
    "# print unique values for Weight\n",
    "df['Weight'].unique()"
   ]
  },
  {
   "cell_type": "markdown",
   "metadata": {
    "hidden": true
   },
   "source": [
    "4.4. Write a function (`get_weight`) which converts the **Weight** from a string in `lbs` to a number in `kg` with no decimals.    \n",
    "1 lbs = 0.453592 kg. For example `get_weight(\"115lbs\")` = `52`"
   ]
  },
  {
   "cell_type": "code",
   "execution_count": 42,
   "metadata": {
    "hidden": true
   },
   "outputs": [],
   "source": [
    "def get_weight(x):\n",
    "    return  round(float(x.split('lbs')[0]) * 0.453592, 0)"
   ]
  },
  {
   "cell_type": "code",
   "execution_count": 43,
   "metadata": {
    "hidden": true
   },
   "outputs": [],
   "source": [
    "# check if your answer is correct\n",
    "assert get_weight(\"115lbs\") == 52; assert get_weight(\"234lbs\") == 106"
   ]
  },
  {
   "cell_type": "markdown",
   "metadata": {
    "hidden": true
   },
   "source": [
    "Apply the previous defined function on `Weight`"
   ]
  },
  {
   "cell_type": "code",
   "execution_count": 44,
   "metadata": {
    "hidden": true
   },
   "outputs": [],
   "source": [
    "df['Weight'] = df['Weight'].apply(get_weight)"
   ]
  },
  {
   "cell_type": "code",
   "execution_count": 45,
   "metadata": {
    "hidden": true
   },
   "outputs": [],
   "source": [
    "# check if your answer is correct\n",
    "assert df['Weight'].dtype == 'float64'; assert df['Weight'].isnull().sum() == 0"
   ]
  },
  {
   "cell_type": "markdown",
   "metadata": {},
   "source": [
    "## Convert text columns to numeric"
   ]
  },
  {
   "cell_type": "markdown",
   "metadata": {},
   "source": [
    "5.1. Identify non-numeric text columns in a list called `text_cols`"
   ]
  },
  {
   "cell_type": "code",
   "execution_count": 47,
   "metadata": {},
   "outputs": [
    {
     "name": "stdout",
     "output_type": "stream",
     "text": [
      "14743\n"
     ]
    }
   ],
   "source": [
    "text_cols_df = df.select_dtypes(exclude=np.number)\n",
    "text_cols = text_cols_df.values.tolist()\n",
    "print(len(text_cols))"
   ]
  },
  {
   "cell_type": "markdown",
   "metadata": {},
   "source": [
    "5.2. Build a list named `cols_to_remove` containing columns from `text_cols`, if a column has a number of unique values greater than **10** (`> 10`)"
   ]
  },
  {
   "cell_type": "code",
   "execution_count": 52,
   "metadata": {},
   "outputs": [
    {
     "name": "stdout",
     "output_type": "stream",
     "text": [
      "['Position', 'LS', 'ST', 'RS', 'LW', 'LF', 'CF', 'RF', 'RW', 'LAM', 'CAM', 'RAM', 'LM', 'LCM', 'CM', 'RCM', 'RM', 'LWB', 'LDM', 'CDM', 'RDM', 'RWB', 'LB', 'LCB', 'CB', 'RCB', 'RB']\n",
      "27\n"
     ]
    }
   ],
   "source": [
    "cols_to_remove = list()\n",
    "for column in text_cols_df:\n",
    "    if(text_cols_df[column].nunique() > 10):\n",
    "        cols_to_remove.append(text_cols_df[column].name)\n",
    "print(cols_to_remove)\n",
    "print(len(cols_to_remove))"
   ]
  },
  {
   "cell_type": "markdown",
   "metadata": {},
   "source": [
    "remove `cols_to_remove` columns from `df` and print its shape"
   ]
  },
  {
   "cell_type": "code",
   "execution_count": 53,
   "metadata": {},
   "outputs": [
    {
     "name": "stdout",
     "output_type": "stream",
     "text": [
      "(14743, 77)\n",
      "(14743, 50)\n"
     ]
    }
   ],
   "source": [
    "print(df.shape)\n",
    "for column in cols_to_remove:\n",
    "    df.drop(column, axis=1, inplace=True)\n",
    "print(df.shape)"
   ]
  },
  {
   "cell_type": "code",
   "execution_count": 55,
   "metadata": {},
   "outputs": [],
   "source": [
    "# check if your answer is correct\n",
    "assert df.shape == (14743, 50)"
   ]
  },
  {
   "cell_type": "markdown",
   "metadata": {},
   "source": [
    "5.3. Identify the remaining text columns in `text_cols` as `remaining_text_cols`, make sur it passes the test after"
   ]
  },
  {
   "cell_type": "code",
   "execution_count": 56,
   "metadata": {},
   "outputs": [
    {
     "name": "stdout",
     "output_type": "stream",
     "text": [
      "['Preferred Foot', 'Work Rate', 'Body Type', 'Position', 'LS', 'ST', 'RS', 'LW', 'LF', 'CF', 'RF', 'RW', 'LAM', 'CAM', 'RAM', 'LM', 'LCM', 'CM', 'RCM', 'RM', 'LWB', 'LDM', 'CDM', 'RDM', 'RWB', 'LB', 'LCB', 'CB', 'RCB', 'RB']\n",
      "['Position', 'LS', 'ST', 'RS', 'LW', 'LF', 'CF', 'RF', 'RW', 'LAM', 'CAM', 'RAM', 'LM', 'LCM', 'CM', 'RCM', 'RM', 'LWB', 'LDM', 'CDM', 'RDM', 'RWB', 'LB', 'LCB', 'CB', 'RCB', 'RB']\n",
      "['Body Type', 'Work Rate', 'Preferred Foot']\n"
     ]
    }
   ],
   "source": [
    "past_text_cols = list()\n",
    "for column in text_cols_df:\n",
    "    past_text_cols.append(text_cols_df[column].name)\n",
    "print(past_text_cols)\n",
    "print(cols_to_remove)\n",
    "remaining_text_cols = list(set(past_text_cols) - set(cols_to_remove))\n",
    "print(remaining_text_cols)\n",
    "#print(len(remaining_text_cols))"
   ]
  },
  {
   "cell_type": "code",
   "execution_count": 57,
   "metadata": {},
   "outputs": [
    {
     "ename": "AssertionError",
     "evalue": "",
     "output_type": "error",
     "traceback": [
      "\u001b[1;31m---------------------------------------------------------------------------\u001b[0m",
      "\u001b[1;31mAssertionError\u001b[0m                            Traceback (most recent call last)",
      "\u001b[1;32m~\\AppData\\Local\\Temp/ipykernel_19464/66274288.py\u001b[0m in \u001b[0;36m<module>\u001b[1;34m\u001b[0m\n\u001b[0;32m      1\u001b[0m \u001b[1;31m# check if your answer is correct\u001b[0m\u001b[1;33m\u001b[0m\u001b[1;33m\u001b[0m\u001b[0m\n\u001b[1;32m----> 2\u001b[1;33m \u001b[1;32massert\u001b[0m \u001b[0mremaining_text_cols\u001b[0m \u001b[1;33m==\u001b[0m \u001b[1;33m[\u001b[0m\u001b[1;34m'Preferred Foot'\u001b[0m\u001b[1;33m,\u001b[0m \u001b[1;34m'Work Rate'\u001b[0m\u001b[1;33m,\u001b[0m \u001b[1;34m'Body Type'\u001b[0m\u001b[1;33m]\u001b[0m\u001b[1;33m\u001b[0m\u001b[1;33m\u001b[0m\u001b[0m\n\u001b[0m",
      "\u001b[1;31mAssertionError\u001b[0m: "
     ]
    }
   ],
   "source": [
    "# check if your answer is correct\n",
    "assert remaining_text_cols == ['Preferred Foot', 'Work Rate', 'Body Type']"
   ]
  },
  {
   "cell_type": "markdown",
   "metadata": {},
   "source": [
    "5.4. Loop through `remaining_text_cols` and convert them to numerical values"
   ]
  },
  {
   "cell_type": "code",
   "execution_count": 58,
   "metadata": {},
   "outputs": [
    {
     "name": "stdout",
     "output_type": "stream",
     "text": [
      "['Messi' 'C. Ronaldo' 'Neymar' 'Normal' 'Lean' 'Stocky'\n",
      " 'PLAYER_BODY_TYPE_25' 'Shaqiri' 'Akinfenwa']\n",
      "['Medium/ Medium' 'High/ Low' 'High/ Medium' 'High/ High' 'Medium/ High'\n",
      " 'Medium/ Low' 'Low/ High' 'Low/ Medium' 'Low/ Low']\n",
      "['Left' 'Right']\n",
      "0        0\n",
      "1        1\n",
      "2        1\n",
      "4        1\n",
      "5        1\n",
      "        ..\n",
      "18202    1\n",
      "18203    1\n",
      "18204    1\n",
      "18205    1\n",
      "18206    1\n",
      "Name: Preferred Foot, Length: 14743, dtype: int64\n"
     ]
    }
   ],
   "source": [
    "# your code here\n",
    "for col in remaining_text_cols:\n",
    "    print(pd.unique(df[col]))\n",
    "# get unique values to create maps\n",
    "for col in remaining_text_cols:\n",
    "    if(col == \"Preferred Foot\"):\n",
    "        mymap = {'Left':0, 'Right':1}\n",
    "        df = df.applymap(lambda s: mymap.get(s) if s in mymap else s)\n",
    "    if(col == \"Work Rate\"):\n",
    "        mymap = {'Medium/ Medium':0, 'High/ Low':1, 'High/ Medium':2, 'High/ High':3, 'Medium/ High':4, \n",
    "                 'Medium/ Low':5, 'Low/ High':6, 'Low/ Medium':7, 'Low/ Low':8}\n",
    "        df = df.applymap(lambda s: mymap.get(s) if s in mymap else s)\n",
    "    if(col == \"Body Type\"):\n",
    "        mymap = {'Messi':0, 'C. Ronaldo':1, 'Neymar':2, 'Normal':3, 'Lean':4, \n",
    "                 'Stocky':5, 'PLAYER_BODY_TYPE_25':6, 'Shaqiri':7, 'Akinfenwa':8}\n",
    "        df = df.applymap(lambda s: mymap.get(s) if s in mymap else s)\n",
    "\n",
    "print(df[col])"
   ]
  },
  {
   "cell_type": "code",
   "execution_count": 59,
   "metadata": {},
   "outputs": [
    {
     "data": {
      "text/plain": [
       "(14743, 50)"
      ]
     },
     "execution_count": 59,
     "metadata": {},
     "output_type": "execute_result"
    }
   ],
   "source": [
    "df.shape"
   ]
  },
  {
   "cell_type": "markdown",
   "metadata": {},
   "source": [
    "# Model building"
   ]
  },
  {
   "cell_type": "markdown",
   "metadata": {},
   "source": [
    "As stated before, you can do this part without completing the previous one"
   ]
  },
  {
   "cell_type": "markdown",
   "metadata": {},
   "source": [
    "6.1. Load the cleaned dataset `data_cleaned.csv` into `df_clean` and print its shape.    "
   ]
  },
  {
   "cell_type": "code",
   "execution_count": 60,
   "metadata": {},
   "outputs": [
    {
     "name": "stdout",
     "output_type": "stream",
     "text": [
      "(14743, 49)\n"
     ]
    }
   ],
   "source": [
    "# your code here\n",
    "df = pd.read_csv('data_cleaned.csv',index_col=0)\n",
    "print(df.shape)"
   ]
  },
  {
   "cell_type": "markdown",
   "metadata": {},
   "source": [
    "6.2. Load the target variable `Overall` into a dataframe and name it `y`. Then, load the features into a second dataframe and name it `X`. Plot a histogram of `y`, choose the number of bins as 100."
   ]
  },
  {
   "cell_type": "code",
   "execution_count": 62,
   "metadata": {},
   "outputs": [
    {
     "data": {
      "image/png": "[encoded data removed]",
      "text/plain": [
       "<Figure size 360x360 with 1 Axes>"
      ]
     },
     "metadata": {},
     "output_type": "display_data"
    }
   ],
   "source": [
    "# your code here\n",
    "import seaborn as sns\n",
    "y = df['Overall']\n",
    "x = df.drop('Overall', axis=1)\n",
    "sns.set_theme();\n",
    "bx = sns.displot(y, bins=100)"
   ]
  },
  {
   "cell_type": "markdown",
   "metadata": {},
   "source": [
    "7. Split the data set into a training set and a test set. Choose `test_size` = 0.3 and `random_state` = 123  \n",
    "Print train and test size      \n",
    "**Attention**: You are asked to use  [`sklearn.model_selection`](https://scikit-learn.org/stable/modules/generated/sklearn.model_selection.train_test_split.html)"
   ]
  },
  {
   "cell_type": "code",
   "execution_count": 63,
   "metadata": {},
   "outputs": [
    {
     "name": "stdout",
     "output_type": "stream",
     "text": [
      "X_train:  495360\n",
      "y_train:  10320\n",
      "X_test:  212304\n",
      "y_test:  4423\n"
     ]
    }
   ],
   "source": [
    "# your code here4>>> \n",
    "from sklearn.model_selection import train_test_split\n",
    "X_train, X_test, y_train, y_test = train_test_split(x, y, test_size=0.3, random_state=123)\n",
    "print (\"X_train: \", X_train.size)\n",
    "print (\"y_train: \", y_train.size)\n",
    "print(\"X_test: \", X_test.size)\n",
    "print (\"y_test: \", y_test.size)"
   ]
  },
  {
   "cell_type": "markdown",
   "metadata": {},
   "source": [
    "8. Fit a linear model to the training set, and then report the training and testing errors obtained (the R2 statistic).   \n",
    "Calculate and print the following metrics: mse, rmse, mae for the test_set"
   ]
  },
  {
   "cell_type": "code",
   "execution_count": 64,
   "metadata": {},
   "outputs": [
    {
     "name": "stdout",
     "output_type": "stream",
     "text": [
      "Regressor intercept :  4.5244684431796145\n",
      "Regressor coef : [ 1.93661817e-01  2.66137536e-07  2.87083725e-06  9.69859376e-02\n",
      " -9.69771274e-02  2.16372272e-01  7.92482088e-03  9.53494468e-01\n",
      " -5.04821566e-02  9.09409291e-02 -1.65568230e-02  1.03513991e-02\n",
      "  1.14678840e-02 -6.17839120e-02 -7.37537029e-02 -2.35048634e-02\n",
      " -2.74112334e-02 -1.06846613e-01 -1.23503951e-01 -9.77493839e-02\n",
      " -8.83475215e-02 -1.00224657e-01  1.25457471e-02 -8.30141275e-02\n",
      " -7.88555758e-02 -8.42216644e-02  1.10771984e-01 -1.02903499e-01\n",
      " -8.43005536e-02 -9.23122024e-02 -8.18291706e-02 -5.20554770e-02\n",
      " -9.83093071e-02 -8.84092809e-02 -8.62465644e-02 -1.28062458e-01\n",
      " -1.39564072e-01 -9.07856568e-02  1.11884717e-01 -7.27883376e-02\n",
      " -8.91288377e-02 -1.13593891e-01 -7.74063896e-02 -8.40279123e-02\n",
      " -8.58675690e-02 -9.51794587e-02 -7.54757823e-02 -9.17829929e-08]\n",
      "     Actual  Predicted\n",
      "Age                   \n",
      "22       61  63.134675\n",
      "18       62  63.645081\n",
      "27       74  68.334019\n",
      "20       64  59.975744\n",
      "21       55  55.289896\n",
      "..      ...        ...\n",
      "30       68  70.519444\n",
      "24       65  64.161114\n",
      "25       60  62.005591\n",
      "25       69  67.952806\n",
      "22       64  65.006012\n",
      "\n",
      "[4423 rows x 2 columns]\n",
      "Mean Absolute Error: 1.6404983143689058\n",
      "Mean Squared Error: 4.426298226648914\n",
      "Root Mean Squared Error: 2.1038769514039823\n"
     ]
    }
   ],
   "source": [
    "# your code here\n",
    "from sklearn.linear_model import LinearRegression\n",
    "import matplotlib.pyplot as plt\n",
    "%matplotlib inline\n",
    "\n",
    "regressor = LinearRegression()\n",
    "regressor.fit(X_train, y_train)\n",
    "\n",
    "print(\"Regressor intercept : \",regressor.intercept_)\n",
    "print(\"Regressor coef :\",regressor.coef_)\n",
    "\n",
    "y_pred = regressor.predict(X_test)\n",
    "df_pred = pd.DataFrame({'Actual': y_test, 'Predicted': y_pred})\n",
    "print(df_pred)\n",
    "\n",
    "from sklearn import metrics\n",
    "print('Mean Absolute Error:', metrics.mean_absolute_error(y_test, y_pred))\n",
    "print('Mean Squared Error:', metrics.mean_squared_error(y_test, y_pred))\n",
    "print('Root Mean Squared Error:', np.sqrt(metrics.mean_squared_error(y_test, y_pred)))"
   ]
  },
  {
   "cell_type": "code",
   "execution_count": null,
   "metadata": {},
   "outputs": [],
   "source": [
    "# your code here"
   ]
  },
  {
   "cell_type": "markdown",
   "metadata": {},
   "source": [
    "### Check residuals"
   ]
  },
  {
   "cell_type": "markdown",
   "metadata": {},
   "source": [
    "9.1. Plot a histogram of the residuals (difference between `y_test` and `y_pred`"
   ]
  },
  {
   "cell_type": "code",
   "execution_count": 65,
   "metadata": {},
   "outputs": [
    {
     "name": "stderr",
     "output_type": "stream",
     "text": [
      "C:\\Users\\Adrien\\anaconda3\\lib\\site-packages\\seaborn\\distributions.py:2619: FutureWarning: `distplot` is a deprecated function and will be removed in a future version. Please adapt your code to use either `displot` (a figure-level function with similar flexibility) or `histplot` (an axes-level function for histograms).\n",
      "  warnings.warn(msg, FutureWarning)\n"
     ]
    },
    {
     "data": {
      "image/png": "[encoded data removed]",
      "text/plain": [
       "<Figure size 432x288 with 1 Axes>"
      ]
     },
     "metadata": {
      "needs_background": "light"
     },
     "output_type": "display_data"
    }
   ],
   "source": [
    "# your code here\n",
    "residuals = y_test - y_pred \n",
    "\n",
    "sns.distplot(residuals, bins = 10) # you may select the no. of bins\n",
    "plt.title('Residuals', fontsize=20)           \n",
    "plt.xlabel('Residuals', fontsize = 15)     \n",
    "plt.show()"
   ]
  },
  {
   "cell_type": "markdown",
   "metadata": {},
   "source": [
    "9.2. Plot a scatter plot where `y_test` is in the **x** axis and  `y_pred` is in the **y** axis"
   ]
  },
  {
   "cell_type": "code",
   "execution_count": 66,
   "metadata": {},
   "outputs": [
    {
     "data": {
      "text/plain": [
       "<AxesSubplot:xlabel='Overall'>"
      ]
     },
     "execution_count": 66,
     "metadata": {},
     "output_type": "execute_result"
    },
    {
     "data": {
      "image/png": "[encoded data removed]",
      "text/plain": [
       "<Figure size 432x288 with 1 Axes>"
      ]
     },
     "metadata": {
      "needs_background": "light"
     },
     "output_type": "display_data"
    }
   ],
   "source": [
    "# your code here\n",
    "sns.scatterplot(data=y_test,x=y_test,y=y_pred)"
   ]
  },
  {
   "cell_type": "markdown",
   "metadata": {},
   "source": [
    "10. Try to improve the performance of your model, by adding new features"
   ]
  },
  {
   "cell_type": "code",
   "execution_count": 67,
   "metadata": {},
   "outputs": [
    {
     "data": {
      "text/plain": [
       "<AxesSubplot:xlabel='Overall'>"
      ]
     },
     "execution_count": 67,
     "metadata": {},
     "output_type": "execute_result"
    },
    {
     "data": {
      "image/png": "[encoded data removed]",
      "text/plain": [
       "<Figure size 432x288 with 1 Axes>"
      ]
     },
     "metadata": {
      "needs_background": "light"
     },
     "output_type": "display_data"
    }
   ],
   "source": [
    "# your code here\n",
    "sns.scatterplot(data=y_test,x=y_test,y=y_pred,hue='Age')"
   ]
  },
  {
   "cell_type": "code",
   "execution_count": null,
   "metadata": {},
   "outputs": [],
   "source": []
  }
 ],
 "metadata": {
  "anaconda-cloud": {},
  "kernelspec": {
   "display_name": "Python 3 (ipykernel)",
   "language": "python",
   "name": "python3"
  },
  "language_info": {
   "codemirror_mode": {
    "name": "ipython",
    "version": 3
   },
   "file_extension": ".py",
   "mimetype": "text/x-python",
   "name": "python",
   "nbconvert_exporter": "python",
   "pygments_lexer": "ipython3",
   "version": "3.9.7"
  }
 },
 "nbformat": 4,
 "nbformat_minor": 4
}
