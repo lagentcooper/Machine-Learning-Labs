{
 "cells": [
  {
   "cell_type": "markdown",
   "metadata": {},
   "source": [
    "## Lab 2-2 Data Visualization"
   ]
  },
  {
   "cell_type": "markdown",
   "metadata": {},
   "source": [
    "### Import Modules"
   ]
  },
  {
   "cell_type": "code",
   "execution_count": 2,
   "metadata": {},
   "outputs": [
    {
     "name": "stderr",
     "output_type": "stream",
     "text": [
      "UsageError: Line magic function `%` not found.\n"
     ]
    }
   ],
   "source": [
    "import pandas as pd\n",
    "import numpy as np\n",
    "import seaborn as sns\n",
    "import matplotlib.pyplot as plt\n",
    "% matplotlib inline"
   ]
  },
  {
   "cell_type": "markdown",
   "metadata": {},
   "source": [
    "### Titanic Dataset"
   ]
  },
  {
   "cell_type": "markdown",
   "metadata": {},
   "source": [
    "The Titanic is a well-known ship that sunk on its maiden voyage in 1912 after collision with an iceberg. Many were killed in the incident. You may recognize this name from the movie with Leonardo DiCaprio. \n",
    "\n",
    "Please read up on the data dictionary here: https://www.kaggle.com/c/titanic/data\n",
    "\n",
    "We'll do exploratory analysis to learn about the people on the ship."
   ]
  },
  {
   "cell_type": "markdown",
   "metadata": {},
   "source": [
    "#### Question 1: Read in dataset using Seaborn and assign to variable\n",
    "\n",
    "You can use this code snippet to read in the dataset: `sns.load_dataset('titanic')`"
   ]
  },
  {
   "cell_type": "code",
   "execution_count": 4,
   "metadata": {},
   "outputs": [
    {
     "name": "stdout",
     "output_type": "stream",
     "text": [
      "     survived  pclass     sex   age  sibsp  parch     fare embarked   class  \\\n",
      "0           0       3    male  22.0      1      0   7.2500        S   Third   \n",
      "1           1       1  female  38.0      1      0  71.2833        C   First   \n",
      "2           1       3  female  26.0      0      0   7.9250        S   Third   \n",
      "3           1       1  female  35.0      1      0  53.1000        S   First   \n",
      "4           0       3    male  35.0      0      0   8.0500        S   Third   \n",
      "..        ...     ...     ...   ...    ...    ...      ...      ...     ...   \n",
      "886         0       2    male  27.0      0      0  13.0000        S  Second   \n",
      "887         1       1  female  19.0      0      0  30.0000        S   First   \n",
      "888         0       3  female   NaN      1      2  23.4500        S   Third   \n",
      "889         1       1    male  26.0      0      0  30.0000        C   First   \n",
      "890         0       3    male  32.0      0      0   7.7500        Q   Third   \n",
      "\n",
      "       who  adult_male deck  embark_town alive  alone  \n",
      "0      man        True  NaN  Southampton    no  False  \n",
      "1    woman       False    C    Cherbourg   yes  False  \n",
      "2    woman       False  NaN  Southampton   yes   True  \n",
      "3    woman       False    C  Southampton   yes  False  \n",
      "4      man        True  NaN  Southampton    no   True  \n",
      "..     ...         ...  ...          ...   ...    ...  \n",
      "886    man        True  NaN  Southampton    no   True  \n",
      "887  woman       False    B  Southampton   yes   True  \n",
      "888  woman       False  NaN  Southampton    no  False  \n",
      "889    man        True    C    Cherbourg   yes   True  \n",
      "890    man        True  NaN   Queenstown    no   True  \n",
      "\n",
      "[891 rows x 15 columns]\n"
     ]
    }
   ],
   "source": [
    "data = sns.load_dataset('titanic')\n",
    "print(data)"
   ]
  },
  {
   "cell_type": "markdown",
   "metadata": {},
   "source": [
    "#### Question 2: What type of data structure is assigned to this variable?\n",
    "\n",
    "You can use the built-in type function to check: https://docs.python.org/3/library/functions.html#type\n"
   ]
  },
  {
   "cell_type": "code",
   "execution_count": 6,
   "metadata": {},
   "outputs": [
    {
     "data": {
      "text/plain": [
       "pandas.core.frame.DataFrame"
      ]
     },
     "execution_count": 6,
     "metadata": {},
     "output_type": "execute_result"
    }
   ],
   "source": [
    "type(data)"
   ]
  },
  {
   "cell_type": "markdown",
   "metadata": {},
   "source": [
    "#### Question 3: Can you write code to preview the first 5 rows/records of this dataset?\n",
    "\n",
    "You can use the following method: https://pandas.pydata.org/pandas-docs/stable/generated/pandas.DataFrame.head.html"
   ]
  },
  {
   "cell_type": "code",
   "execution_count": 7,
   "metadata": {},
   "outputs": [
    {
     "name": "stdout",
     "output_type": "stream",
     "text": [
      "   survived  pclass     sex   age  sibsp  parch     fare embarked  class  \\\n",
      "0         0       3    male  22.0      1      0   7.2500        S  Third   \n",
      "1         1       1  female  38.0      1      0  71.2833        C  First   \n",
      "2         1       3  female  26.0      0      0   7.9250        S  Third   \n",
      "3         1       1  female  35.0      1      0  53.1000        S  First   \n",
      "4         0       3    male  35.0      0      0   8.0500        S  Third   \n",
      "\n",
      "     who  adult_male deck  embark_town alive  alone  \n",
      "0    man        True  NaN  Southampton    no  False  \n",
      "1  woman       False    C    Cherbourg   yes  False  \n",
      "2  woman       False  NaN  Southampton   yes   True  \n",
      "3  woman       False    C  Southampton   yes  False  \n",
      "4    man        True  NaN  Southampton    no   True  \n"
     ]
    }
   ],
   "source": [
    "print(data.head(5))"
   ]
  },
  {
   "cell_type": "markdown",
   "metadata": {},
   "source": [
    "#### Question 4: How many rows in the dataset?\n",
    "\n",
    "Please print the answer programmatically."
   ]
  },
  {
   "cell_type": "code",
   "execution_count": 8,
   "metadata": {},
   "outputs": [
    {
     "name": "stdout",
     "output_type": "stream",
     "text": [
      "891\n"
     ]
    }
   ],
   "source": [
    "print(len(data.index))"
   ]
  },
  {
   "cell_type": "markdown",
   "metadata": {},
   "source": [
    "#### Question 5: Plot a box plot of the age distribution\n",
    "\n",
    "I'd recommend reading up on the math behind box plots and other examples: \n",
    "- https://help.plot.ly/what-is-a-box-plot/\n",
    "- https://dfrieds.com/data-visualizations/when-use-box-plots\n",
    "\n",
    "- X-axis should be age. \n",
    "- Include a relevant title\n",
    "- Make the plot's figure slightly bigger than the default styles\n",
    "- Make the font size of the title, x-ticks and x-label to be slightly larger than the default so it's easier to read.\n",
    "\n",
    "You may need to filter the dataframe by a specific column. If you don't know how, you can see an example here: https://chrisalbon.com/python/data_wrangling/filter_dataframes/\n",
    "\n",
    "I'd recommend using Seaborn's box plot functionality. However, make sure to filter out null age values! https://seaborn.pydata.org/generated/seaborn.boxplot.html\n",
    "\n",
    "I provide code in the first box that should apply styles to all plots created in this Notebook. You can learn more here: https://seaborn.pydata.org/tutorial/aesthetics.html"
   ]
  },
  {
   "cell_type": "code",
   "execution_count": 9,
   "metadata": {},
   "outputs": [],
   "source": [
    "sns.set_context(\"talk\")\n",
    "sns.set(style=\"darkgrid\", font_scale=1.45)"
   ]
  },
  {
   "cell_type": "code",
   "execution_count": 10,
   "metadata": {},
   "outputs": [
    {
     "name": "stderr",
     "output_type": "stream",
     "text": [
      "C:\\Users\\Adrien\\anaconda3\\lib\\site-packages\\seaborn\\_decorators.py:36: FutureWarning: Pass the following variable as a keyword arg: x. From version 0.12, the only valid positional argument will be `data`, and passing other arguments without an explicit keyword will result in an error or misinterpretation.\n",
      "  warnings.warn(\n"
     ]
    },
    {
     "data": {
      "image/png": "[encoded data removed]",
      "text/plain": [
       "<Figure size 432x288 with 1 Axes>"
      ]
     },
     "metadata": {},
     "output_type": "display_data"
    }
   ],
   "source": [
    "age = data['age']\n",
    "age = age.dropna()\n",
    "ageData = sns.boxplot(age)"
   ]
  },
  {
   "cell_type": "markdown",
   "metadata": {},
   "source": [
    "#### Question 6: Are there any outliers? On which end of the age range are they?"
   ]
  },
  {
   "cell_type": "markdown",
   "metadata": {},
   "source": [
    "Answer here..."
   ]
  },
  {
   "cell_type": "markdown",
   "metadata": {},
   "source": [
    "#### Question 7: Between what two ages, at the 25th and 75th percentile, are these 50% of people on the Titanic?\n",
    "\n",
    "Hint: you can use Pandas `quantile()` method to find the 25th and 75th percentile: https://pandas.pydata.org/pandas-docs/version/0.23.1/generated/pandas.Series.quantile.html. \n",
    "\n",
    "Alternatively, you can see the output with Pandas `describe()` method: https://pandas.pydata.org/pandas-docs/stable/generated/pandas.Series.describe.html"
   ]
  },
  {
   "cell_type": "code",
   "execution_count": 11,
   "metadata": {},
   "outputs": [
    {
     "data": {
      "text/plain": [
       "0.25    20.125\n",
       "0.50    28.000\n",
       "0.75    38.000\n",
       "Name: age, dtype: float64"
      ]
     },
     "execution_count": 11,
     "metadata": {},
     "output_type": "execute_result"
    }
   ],
   "source": [
    "age.quantile([.25, .5, .75])"
   ]
  },
  {
   "cell_type": "markdown",
   "metadata": {},
   "source": [
    "Text answer here..."
   ]
  },
  {
   "cell_type": "markdown",
   "metadata": {},
   "source": [
    "#### Question 8: What was the oldest age person on the Titanic?\n",
    "\n",
    "Hint: you can use the `max()` method found here: https://pandas.pydata.org/pandas-docs/version/0.21/generated/pandas.Series.max.html\n",
    "\n",
    "Please answer this question programmatically."
   ]
  },
  {
   "cell_type": "code",
   "execution_count": 12,
   "metadata": {},
   "outputs": [
    {
     "name": "stdout",
     "output_type": "stream",
     "text": [
      "80.0\n"
     ]
    }
   ],
   "source": [
    "print(age.max())"
   ]
  },
  {
   "cell_type": "markdown",
   "metadata": {},
   "source": [
    "#### Question 9: What was the youngest (minimum) aged person on the Titanic?\n",
    "\n",
    "Please answer this question programmatically."
   ]
  },
  {
   "cell_type": "code",
   "execution_count": 13,
   "metadata": {},
   "outputs": [
    {
     "name": "stdout",
     "output_type": "stream",
     "text": [
      "0.42\n"
     ]
    }
   ],
   "source": [
    "print(age.min())"
   ]
  },
  {
   "cell_type": "markdown",
   "metadata": {},
   "source": [
    "#### Question 10: Plot a histogram of people's age on the Titanic?\n",
    "\n",
    "You can learn more about histograms here: \n",
    "\n",
    "- https://www.mathsisfun.com/data/histograms.html\n",
    "- https://dfrieds.com/data-visualizations/when-use-histogram\n",
    "- https://help.plot.ly/histogram/\n",
    "\n",
    "A histogram is another type of visualization used to visualize the distribution of a continous variable - in our case, age of people on the Titanic.\n",
    "\n",
    "I'd recommend using Seaborn's `distplot()` method. I prefer this Seaborn method over Pandas Plot because Seaborn's method automatically calculates an optimal bin size. Learn more here: https://seaborn.pydata.org/generated/seaborn.distplot.html\n",
    "\n",
    "With your plot, include:\n",
    "- title\n",
    "- x-label\n",
    "- y-label\n",
    "\n",
    "Also, please make your figure size is larger."
   ]
  },
  {
   "cell_type": "code",
   "execution_count": 13,
   "metadata": {},
   "outputs": [],
   "source": [
    "# code here"
   ]
  },
  {
   "cell_type": "markdown",
   "metadata": {},
   "source": [
    "This histogram reveals similar information to the box plot above. I'm curious to learn more about the age differences of different genders of the Titanic."
   ]
  },
  {
   "cell_type": "markdown",
   "metadata": {},
   "source": [
    "#### Question 11: Draw two box plots on the same axes/plot to compare the ages of males versus females\n",
    "\n",
    "Please read the documentation on this Seaborn page about how to easily build side-to-side box plots: https://seaborn.pydata.org/generated/seaborn.boxplot.html\n",
    "\n",
    "You only need one line of code to generate this visualization and one additional line to set a title.\n",
    "\n",
    "Criteria for visualization:\n",
    "- Orientation of both box plots should be vertical\n",
    "- Make sure the x-axis and y-axis have proper labels\n",
    "- Include a detailed title\n",
    "- Make sure the figure size is slightly larger than default\n",
    "- Make sure the labels, ticks and title are larger font size than the default"
   ]
  },
  {
   "cell_type": "code",
   "execution_count": 14,
   "metadata": {},
   "outputs": [],
   "source": [
    "# code here"
   ]
  },
  {
   "cell_type": "markdown",
   "metadata": {},
   "source": [
    "#### Question 12: Is the median age higher for male or female?"
   ]
  },
  {
   "cell_type": "markdown",
   "metadata": {},
   "source": [
    "Text answer here..."
   ]
  },
  {
   "cell_type": "markdown",
   "metadata": {},
   "source": [
    "#### Question 13: Are there any outliers for males or females? If so, which one?"
   ]
  },
  {
   "cell_type": "markdown",
   "metadata": {},
   "source": [
    "Text answer here..."
   ]
  },
  {
   "cell_type": "markdown",
   "metadata": {},
   "source": [
    "#### Question 14: Create a box plot to visualize the distribution of fare amounts.\n",
    "\n",
    "A box plot is ideal here because we can easily see outliers of people that paid a very large amount of money for their ticket.\n",
    "\n",
    "- X-axis should be fare amount (U.S. dollars). \n",
    "- Include a relevant title.\n",
    "- Make the plot's figure slightly bigger than the default styles.\n",
    "- Make the font size of the title, x-ticks and x-label to be slightly larger than the default so it's easier to read."
   ]
  },
  {
   "cell_type": "code",
   "execution_count": 51,
   "metadata": {},
   "outputs": [
    {
     "data": {
      "image/png": "[encoded data removed]",
      "text/plain": [
       "<matplotlib.figure.Figure at 0x11b88bc88>"
      ]
     },
     "metadata": {},
     "output_type": "display_data"
    }
   ],
   "source": [
    "# code here"
   ]
  },
  {
   "cell_type": "markdown",
   "metadata": {},
   "source": [
    "#### Question 15: Create a box plot of fare amounts grouped by ticket `class`"
   ]
  },
  {
   "cell_type": "markdown",
   "metadata": {},
   "source": [
    "Criteria for visualization:\n",
    "- Orientation of both box plots should be horizontal\n",
    "- Make sure the x-axis and y-axis have proper labels\n",
    "- Include a detailed title\n",
    "- Make sure the figure size is slightly larger than default\n",
    "- Make sure the labels, ticks and title are larger font size than the default"
   ]
  },
  {
   "cell_type": "code",
   "execution_count": 52,
   "metadata": {},
   "outputs": [
    {
     "data": {
      "image/png": "[encoded data removed]",
      "text/plain": [
       "<matplotlib.figure.Figure at 0x11cb9ecf8>"
      ]
     },
     "metadata": {},
     "output_type": "display_data"
    }
   ],
   "source": [
    "# code here"
   ]
  },
  {
   "cell_type": "markdown",
   "metadata": {},
   "source": [
    "#### Question 16: Which group of ticket class had the highest median fare?"
   ]
  },
  {
   "cell_type": "markdown",
   "metadata": {},
   "source": [
    "Text answer here..."
   ]
  },
  {
   "cell_type": "markdown",
   "metadata": {},
   "source": [
    "#### Question 17: Which group of ticket class had the largest range?\n",
    "\n",
    "Documentation on what is the definition of range: https://www.mathsisfun.com/definitions/range-statistics-.html"
   ]
  },
  {
   "cell_type": "markdown",
   "metadata": {},
   "source": [
    "Text answer here..."
   ]
  },
  {
   "cell_type": "markdown",
   "metadata": {},
   "source": [
    "#### Question 18: Create a box plot of fare amounts grouped by two categorical variables: `class` and `survived`.\n",
    "\n",
    "Criteria for visualization:\n",
    "- Orientation of box plots should be horizontal\n",
    "- Make sure the x-axis and y-axis have proper labels\n",
    "- Include a detailed title\n",
    "- Make sure the figure size is slightly larger than default\n",
    "- Make sure the labels, ticks and title are larger font size than the default\n",
    "- The legend should show the survival categories"
   ]
  },
  {
   "cell_type": "code",
   "execution_count": 15,
   "metadata": {},
   "outputs": [],
   "source": [
    "# code here"
   ]
  },
  {
   "cell_type": "markdown",
   "metadata": {},
   "source": [
    "#### Question 19: For which ticket class does it seem the people who paid a higher fare survived more than those who paid a small ticket fare?"
   ]
  },
  {
   "cell_type": "markdown",
   "metadata": {},
   "source": [
    "Text answer here..."
   ]
  },
  {
   "cell_type": "markdown",
   "metadata": {},
   "source": [
    "#### Question 20: Create a vertical bar plot to show the count of people from each embarked town\n",
    "\n",
    "Our DataFrame provides a row for each unique person. We want to show the count of people from each town using bars.\n",
    "\n",
    "You can read more about vertical bar charts here: https://dfrieds.com/data-visualizations/when-use-vertical-bar-chart\n",
    "\n",
    "We can use Seaborn's `countplot()` method to create the bar plot and help us calculate the count of people in each town. Read more here: https://seaborn.pydata.org/generated/seaborn.countplot.html. You'll have to use the `x`, `data`, and `orient` arguments to create the desired visualization.\n",
    "\n",
    "Criteria for visualization:\n",
    "- Vertical bar plot\n",
    "- Make sure the x-axis and y-axis have proper labels\n",
    "- Include a detailed title\n",
    "- Make sure the figure size is slightly larger than default\n",
    "- Make sure the labels, ticks and title are larger font size than the default"
   ]
  },
  {
   "cell_type": "code",
   "execution_count": 16,
   "metadata": {},
   "outputs": [],
   "source": [
    "# code here"
   ]
  },
  {
   "cell_type": "markdown",
   "metadata": {},
   "source": [
    "#### Question 21: Create a horizontal bar plot to show the count of people from each embarked town\n",
    "\n",
    "Our DataFrame provides a row for each unique person. We want to show the count of people from each town using bars.\n",
    "\n",
    "You can read more about horizontal bar charts here: https://dfrieds.com/data-visualizations/when-use-horizontal-bar-charts\n",
    "\n",
    "We can use Seaborn's `countplot()` method to create the bar plot and help us calculate the count of people in each town. Read more here: https://seaborn.pydata.org/generated/seaborn.countplot.html. You'll have to use the `y`, `data`, and `orient` arguments to create the desired visualization.\n",
    "\n",
    "Criteria for visualization:\n",
    "- Horizontal bar plot\n",
    "- Make sure the x-axis and y-axis have proper labels\n",
    "- Include a detailed title\n",
    "- Make sure the figure size is slightly larger than default\n",
    "- Make sure the labels, ticks and title are larger font size than the default"
   ]
  },
  {
   "cell_type": "code",
   "execution_count": 17,
   "metadata": {},
   "outputs": [],
   "source": [
    "# code here"
   ]
  },
  {
   "cell_type": "markdown",
   "metadata": {},
   "source": [
    "This visualization looks fine as a horizontal or vertical bar chart."
   ]
  },
  {
   "cell_type": "markdown",
   "metadata": {},
   "source": [
    "#### Question 22: Which town did the most people embark from?"
   ]
  },
  {
   "cell_type": "markdown",
   "metadata": {},
   "source": [
    "Text answer here..."
   ]
  },
  {
   "cell_type": "markdown",
   "metadata": {},
   "source": [
    "#### Question 23: Create a vertical bar plot of value counts for each `embark_town` grouped by the `who` field\n",
    "\n",
    "We often call this plot a grouped bar plot. We're finding the sizes of multiple categories using different bar heights. \n",
    "\n",
    "You can learn more about grouped bar plots at https://dfrieds.com/data-visualizations/when-use-vertical-grouped-barplots\n",
    "\n",
    "This visualization will help us understand the type of people from each embarked from town.\n",
    "\n",
    "We can use Seaborn's `countplot()` method to create the bar plot and help us calculate the count of people in each town. Read more here: https://seaborn.pydata.org/generated/seaborn.countplot.html. You'll have to use the `x`, `data`, `hue` and `orient` arguments to create the desired visualization. Please see the second example on the link provided for a similar example.\n",
    "\n",
    "Criteria for visualization:\n",
    "- Vertical grouped bar plot\n",
    "- Make sure the x-axis and y-axis have proper labels\n",
    "- Include a detailed title\n",
    "- Make sure the figure size is slightly larger than default\n",
    "- Make sure the labels, ticks and title are larger font size than the default\n",
    "- A legend for the `who` category"
   ]
  },
  {
   "cell_type": "code",
   "execution_count": 18,
   "metadata": {},
   "outputs": [],
   "source": [
    "# code here"
   ]
  },
  {
   "cell_type": "markdown",
   "metadata": {},
   "source": [
    "#### Question 24: From which town did the fewest children come from?"
   ]
  },
  {
   "cell_type": "markdown",
   "metadata": {},
   "source": [
    "Text answer here..."
   ]
  },
  {
   "cell_type": "markdown",
   "metadata": {},
   "source": [
    "#### Question 25: From which town did roughly the same number of men and women come from?"
   ]
  },
  {
   "cell_type": "markdown",
   "metadata": {},
   "source": [
    "Text answer here..."
   ]
  },
  {
   "cell_type": "markdown",
   "metadata": {},
   "source": [
    "#### Question 26: Did more men or women survive from Southhampton?\n",
    "\n",
    "I provided the code here since this is a bit complex.\n",
    "\n",
    "`catplot()` helps us create multiple visualizations for another grouping of a categorical variable. We the plot above, and we separated it by another categorical variable, the `survived` field, so we can see the count of people who embarked from towns, grouped by the `who` category and `survival` category. This plot works well because `survival` field is binary - you either survived or didn't. Therefore, we have just 2 plots. If we had 4 or more plots, it could be incredibly difficult to understand.\n",
    "\n",
    "The `height` argument sets the height for each plot to be 10 inches.\n",
    "\n",
    "The `aspect` argument helps define the aspect ratio of each plot. In our case, a smaller aspect value makes the fonts larger and easier to read. Try setting a value of 1 to see the difference."
   ]
  },
  {
   "cell_type": "code",
   "execution_count": 80,
   "metadata": {},
   "outputs": [
    {
     "data": {
      "text/plain": [
       "<matplotlib.figure.Figure at 0x11de58c18>"
      ]
     },
     "metadata": {},
     "output_type": "display_data"
    },
    {
     "data": {
      "image/png": "[encoded data removed]",
      "text/plain": [
       "<matplotlib.figure.Figure at 0x11e011978>"
      ]
     },
     "metadata": {},
     "output_type": "display_data"
    }
   ],
   "source": [
    "plt.figure(figsize=(12, 8))\n",
    "fig = sns.catplot(x=\"embark_town\", hue=\"who\", col=\"survived\", data=df, kind=\"count\", height=10, aspect=0.8)\n",
    "fig.fig.suptitle(\"Survival Counts by Person Type and Class\", y=1.03, fontsize=28);"
   ]
  },
  {
   "cell_type": "markdown",
   "metadata": {},
   "source": [
    "Text answer here..."
   ]
  },
  {
   "cell_type": "markdown",
   "metadata": {},
   "source": [
    "#### Question 27: From Cherbourg, did more woman survive or not survive?"
   ]
  },
  {
   "cell_type": "markdown",
   "metadata": {},
   "source": [
    "Text answer here..."
   ]
  },
  {
   "cell_type": "markdown",
   "metadata": {},
   "source": [
    "#### Question 28: Create a vertical bar plot to show the count of people from each embarked town using Pandas Plot\n",
    "\n",
    "Our DataFrame provides a row for each unique person. We want to show the count of people from each town using bars.\n",
    "\n",
    "You can read more about vertical bar charts here: https://dfrieds.com/data-visualizations/when-use-vertical-bar-chart\n",
    "\n",
    "Previously, we used Seaborn's `countplot()` which essentially did a groupby operation on the `embark_town` field and then calculated the size of each group. We'll need to do this first step in Pandas before plotting our data. Please read more about the `size()` method at: https://pandas.pydata.org/pandas-docs/stable/generated/pandas.core.groupby.GroupBy.size.html\n",
    "\n",
    "Once you've done this groupby, simply \n",
    "\n",
    "Criteria for visualization:\n",
    "- Vertical bar plot\n",
    "- Make sure the x-axis and y-axis have proper labels\n",
    "- Include a detailed title\n",
    "- Make sure the figure size is slightly larger than default\n",
    "- Make sure the labels, ticks and title are larger font size than the default"
   ]
  },
  {
   "cell_type": "markdown",
   "metadata": {},
   "source": [
    "##### Perform the groupby operation here and print the output"
   ]
  },
  {
   "cell_type": "code",
   "execution_count": 21,
   "metadata": {},
   "outputs": [],
   "source": [
    "# groupby operation here"
   ]
  },
  {
   "cell_type": "markdown",
   "metadata": {},
   "source": [
    "##### Make the basic plot\n",
    "\n",
    "**On that result, call the `plot()` method and for the argument `kind`, pass in a value of `bar`.** \n",
    "\n",
    "Please see the documentation at: https://pandas.pydata.org/pandas-docs/version/0.22/generated/pandas.Series.plot.html"
   ]
  },
  {
   "cell_type": "code",
   "execution_count": 20,
   "metadata": {},
   "outputs": [],
   "source": [
    "# code to build first plot here"
   ]
  },
  {
   "cell_type": "markdown",
   "metadata": {},
   "source": [
    "##### Style the Visualization\n",
    "\n",
    "**In the `plot()` method, also use the arguments, `rot` to rotate the x-ticks if needed, use the `figsize()` argument to make a larger figure and use the `title` argument to set a title.**"
   ]
  },
  {
   "cell_type": "code",
   "execution_count": 19,
   "metadata": {},
   "outputs": [],
   "source": [
    "# code here"
   ]
  },
  {
   "cell_type": "markdown",
   "metadata": {},
   "source": [
    "#### Question 29: Create a horizontal bar plot to show the count of people from each embarked town using Pandas Plot"
   ]
  },
  {
   "cell_type": "markdown",
   "metadata": {},
   "source": [
    "You can paste all your code from the question above, but this time pass a value of `barh` to kind instead of `bar`.\n",
    "\n",
    "You may also need to add an appropriate `xlabel` value for the count of people."
   ]
  },
  {
   "cell_type": "code",
   "execution_count": 22,
   "metadata": {},
   "outputs": [],
   "source": [
    "# code here"
   ]
  },
  {
   "cell_type": "markdown",
   "metadata": {},
   "source": [
    "#### Question 30: Which town did the fewest people embark from?"
   ]
  },
  {
   "cell_type": "markdown",
   "metadata": {},
   "source": [
    "Text answer here..."
   ]
  },
  {
   "cell_type": "markdown",
   "metadata": {},
   "source": [
    "At the end of this section, try to analyse titanic dataset by different plots."
   ]
  },
  {
   "cell_type": "code",
   "execution_count": null,
   "metadata": {},
   "outputs": [],
   "source": []
  }
 ],
 "metadata": {
  "kernelspec": {
   "display_name": "Python 3 (ipykernel)",
   "language": "python",
   "name": "python3"
  },
  "language_info": {
   "codemirror_mode": {
    "name": "ipython",
    "version": 3
   },
   "file_extension": ".py",
   "mimetype": "text/x-python",
   "name": "python",
   "nbconvert_exporter": "python",
   "pygments_lexer": "ipython3",
   "version": "3.9.7"
  }
 },
 "nbformat": 4,
 "nbformat_minor": 4
}
