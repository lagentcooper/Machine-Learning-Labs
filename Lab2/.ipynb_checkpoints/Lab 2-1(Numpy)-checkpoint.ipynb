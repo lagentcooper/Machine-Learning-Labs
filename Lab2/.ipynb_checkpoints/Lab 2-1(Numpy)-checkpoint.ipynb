{
 "cells": [
  {
   "cell_type": "markdown",
   "metadata": {},
   "source": [
    "# Lab 2-1 : NumPY"
   ]
  },
  {
   "cell_type": "markdown",
   "metadata": {},
   "source": [
    "Le but du TP est de commencer à étudier de vraies données avec Python. Pour plus de détails sur Python et NumPy, un grand nombre de ressources sont disponibles sur https://pythonprogramming.net/ , y compris plusieurs séries de vidéos YouTube.\n",
    "\n",
    "La documentation complète est disponible ici : \n",
    "https://docs.scipy.org/doc/numpy-1.15.0/reference/index.html"
   ]
  },
  {
   "cell_type": "markdown",
   "metadata": {},
   "source": [
    "## Ex. 0 : Démarrage\n",
    "\n",
    "Python est un langage très complet et utilisé dans de nombreux domaines, du développement Web à la robotique.\n",
    "\n",
    "Dans cette série de TP, nous l'utiliserons pour le calcul mathématique et la  science des données.\n",
    "\n",
    "La bibliothèque de prédilection pour le calcul mathématique en Python est NumPy. Commencez par l'importer:"
   ]
  },
  {
   "cell_type": "code",
   "execution_count": null,
   "metadata": {},
   "outputs": [],
   "source": []
  },
  {
   "cell_type": "markdown",
   "metadata": {},
   "source": [
    "## Ex. 1 : Python et NumPy en quelques lignes"
   ]
  },
  {
   "cell_type": "markdown",
   "metadata": {},
   "source": [
    "1. Calculez $\\log(\\cos(1-(1+1)/2))$ et $\\sqrt{-1}$ avec NumPy"
   ]
  },
  {
   "cell_type": "code",
   "execution_count": null,
   "metadata": {},
   "outputs": [],
   "source": []
  },
  {
   "cell_type": "code",
   "execution_count": null,
   "metadata": {},
   "outputs": [],
   "source": []
  },
  {
   "cell_type": "markdown",
   "metadata": {},
   "source": [
    "2. Créez une variable `a` à laquelle vous affecterez le résultat du calcul $2*(3+ 2)$. Puis enlevez $1$ à la valeur de la variable `a`."
   ]
  },
  {
   "cell_type": "code",
   "execution_count": null,
   "metadata": {},
   "outputs": [],
   "source": []
  },
  {
   "cell_type": "markdown",
   "metadata": {},
   "source": [
    "3. Vérifiez quelles sont les variables connues du notebook (et que a est bien connue et quelle a le type attendu)"
   ]
  },
  {
   "cell_type": "code",
   "execution_count": null,
   "metadata": {},
   "outputs": [],
   "source": []
  },
  {
   "cell_type": "markdown",
   "metadata": {},
   "source": [
    "4. En NumPy, un objet matrix est un cas particulier de tableau à $n$ dimensions (ndarray) dont la dimension est fixée à 2, y compris pour les vecteurs ! Un vecteur s'utilise donc comme un tableau 2D dont une des dimensions est fixée à 1.\n",
    "\n",
    "    Construisez un vecteur ligne $v = (1, 2, −1, −2, 0, 5)$ et un vecteur colonne $w=(1,2,-1,-2,0,5)$\n",
    "\n",
    "    Vérifiez les tailles et formes de ces vecteurs."
   ]
  },
  {
   "cell_type": "code",
   "execution_count": null,
   "metadata": {},
   "outputs": [],
   "source": []
  },
  {
   "cell_type": "code",
   "execution_count": null,
   "metadata": {},
   "outputs": [],
   "source": []
  },
  {
   "cell_type": "code",
   "execution_count": null,
   "metadata": {},
   "outputs": [],
   "source": []
  },
  {
   "cell_type": "code",
   "execution_count": null,
   "metadata": {},
   "outputs": [],
   "source": []
  },
  {
   "cell_type": "markdown",
   "metadata": {},
   "source": [
    "5. Calculez le vecteur de la différence $v^t − w$ (et vérifiez que $w = v^\n",
    "t$). Quelle est la nature mathématique de cet objet ? Essayez de calculer $v−w$. Pourquoi obtient-on cet objet ?"
   ]
  },
  {
   "cell_type": "code",
   "execution_count": null,
   "metadata": {},
   "outputs": [],
   "source": []
  },
  {
   "cell_type": "code",
   "execution_count": null,
   "metadata": {},
   "outputs": [],
   "source": []
  },
  {
   "cell_type": "markdown",
   "metadata": {},
   "source": [
    "6. Extrayez la valeur de la deuxième composante des vecteur $v$ et $w$. Affectez à la variable $b$ la valeur de la dernière composante du vecteur $v$. Affectez à la variable $n$ la taille du vecteur $v$ (car $v \\in \\mathbb{R}^n$)"
   ]
  },
  {
   "cell_type": "code",
   "execution_count": null,
   "metadata": {},
   "outputs": [],
   "source": []
  },
  {
   "cell_type": "code",
   "execution_count": null,
   "metadata": {},
   "outputs": [],
   "source": []
  },
  {
   "cell_type": "code",
   "execution_count": null,
   "metadata": {},
   "outputs": [],
   "source": []
  },
  {
   "cell_type": "code",
   "execution_count": null,
   "metadata": {},
   "outputs": [],
   "source": []
  },
  {
   "cell_type": "markdown",
   "metadata": {},
   "source": [
    "7. Créez un vecteur $x = (v(0), v(5), v(2))$. Calculez la somme des éléments de $x$. (en cas de doute sur la nature d’une fonction, faites `help(np.sum)`)"
   ]
  },
  {
   "cell_type": "code",
   "execution_count": null,
   "metadata": {},
   "outputs": [],
   "source": []
  },
  {
   "cell_type": "code",
   "execution_count": null,
   "metadata": {},
   "outputs": [],
   "source": []
  },
  {
   "cell_type": "markdown",
   "metadata": {},
   "source": [
    "8. Créez un vecteur $y = (v(1), . . . , v(4))$, un vecteur d’indice allant de 0 à 3."
   ]
  },
  {
   "cell_type": "code",
   "execution_count": null,
   "metadata": {},
   "outputs": [],
   "source": []
  },
  {
   "cell_type": "code",
   "execution_count": null,
   "metadata": {},
   "outputs": [],
   "source": []
  },
  {
   "cell_type": "markdown",
   "metadata": {},
   "source": [
    "9. Calculez la somme cumulée des éléments du vecteur $u$. Quelle est la taille de cet object ? Affectez le résultat de ce calcul à une nouvelle variable $c$."
   ]
  },
  {
   "cell_type": "code",
   "execution_count": null,
   "metadata": {},
   "outputs": [],
   "source": []
  },
  {
   "cell_type": "markdown",
   "metadata": {},
   "source": [
    "10. Créez un nouveau vecteur $t = (1, 1, 1, 0, 0, −1, −1, 1, 1, 1)$. Que fait l’instruction diff(t)? (Si vous n’avez pas fait `help(diff)` c’est que quelque chose vous échappe)"
   ]
  },
  {
   "cell_type": "code",
   "execution_count": null,
   "metadata": {},
   "outputs": [],
   "source": []
  },
  {
   "cell_type": "markdown",
   "metadata": {},
   "source": [
    "11. Que font les instructions sort(t) et unique(t). Calculez les modalités de `t` dans une variable `m`."
   ]
  },
  {
   "cell_type": "code",
   "execution_count": null,
   "metadata": {},
   "outputs": [],
   "source": []
  },
  {
   "cell_type": "code",
   "execution_count": null,
   "metadata": {},
   "outputs": [],
   "source": []
  },
  {
   "cell_type": "markdown",
   "metadata": {},
   "source": [
    "12. Que fait l’instruction t==m[0,2] ? Comptez les effectifs de chaque modalité de t"
   ]
  },
  {
   "cell_type": "code",
   "execution_count": null,
   "metadata": {},
   "outputs": [],
   "source": []
  },
  {
   "cell_type": "code",
   "execution_count": null,
   "metadata": {},
   "outputs": [],
   "source": []
  },
  {
   "cell_type": "code",
   "execution_count": null,
   "metadata": {},
   "outputs": [],
   "source": []
  },
  {
   "cell_type": "markdown",
   "metadata": {},
   "source": [
    "13.Refaire la même chose avec une boucle en utilisant l’instruction for. vérifiez que les résultats sont bien les mêmes."
   ]
  },
  {
   "cell_type": "code",
   "execution_count": null,
   "metadata": {},
   "outputs": [],
   "source": []
  },
  {
   "cell_type": "markdown",
   "metadata": {},
   "source": [
    "14.Créez la matrice\n",
    "$A = \\begin{pmatrix}\n",
    "1 & 2 & 3\\\\\n",
    "4 & 5 & 6\\\\\n",
    "−1 & 0 & 1\\\\\n",
    "1 & 1 & 2\n",
    "\\end{pmatrix}$"
   ]
  },
  {
   "cell_type": "code",
   "execution_count": null,
   "metadata": {},
   "outputs": [],
   "source": []
  },
  {
   "cell_type": "markdown",
   "metadata": {},
   "source": [
    "15. Quelle est la deuxième colonne de A ? Créez un vecteur s composé de la troisième ligne de A."
   ]
  },
  {
   "cell_type": "code",
   "execution_count": null,
   "metadata": {},
   "outputs": [],
   "source": []
  },
  {
   "cell_type": "code",
   "execution_count": null,
   "metadata": {},
   "outputs": [],
   "source": []
  },
  {
   "cell_type": "markdown",
   "metadata": {},
   "source": [
    "16. Créer un vecteur contenant 60 valeurs également réparties croissantes dans l'intervalle $[0, 2\\pi]$."
   ]
  },
  {
   "cell_type": "code",
   "execution_count": null,
   "metadata": {},
   "outputs": [],
   "source": []
  },
  {
   "cell_type": "markdown",
   "metadata": {},
   "source": [
    "17. Quel est le résultat de l’appel np.random.rand(3,5)"
   ]
  },
  {
   "cell_type": "code",
   "execution_count": null,
   "metadata": {},
   "outputs": [],
   "source": []
  },
  {
   "cell_type": "markdown",
   "metadata": {},
   "source": [
    "Créez la matrice\n",
    "$B = \\begin{pmatrix}\n",
    "5 & 8 & -1\\\\\n",
    "4 & 4 & 3\\\\\n",
    "−5 & 2 & 1\\\\\n",
    "5 & 4 & 5\n",
    "\\end{pmatrix}$"
   ]
  },
  {
   "cell_type": "markdown",
   "metadata": {},
   "source": [
    "18.En utilisant la fonction .hstack() et concatenate(), concaténez les tableaux A et B \n",
    "selon les colonnes."
   ]
  },
  {
   "cell_type": "code",
   "execution_count": null,
   "metadata": {},
   "outputs": [],
   "source": []
  },
  {
   "cell_type": "markdown",
   "metadata": {},
   "source": [
    "19.Créez un tableau à 10 lignes et 10 colonnes dont tous les éléments valent 0,5 de deux manières différentes"
   ]
  },
  {
   "cell_type": "code",
   "execution_count": null,
   "metadata": {},
   "outputs": [],
   "source": []
  },
  {
   "cell_type": "code",
   "execution_count": null,
   "metadata": {},
   "outputs": [],
   "source": []
  },
  {
   "cell_type": "markdown",
   "metadata": {},
   "source": [
    "20.Est-il possible de redimensionner le tableau B en une matrice à 3 lignes et 5 colonnes ?\n",
    "Si non, combien faudrait-il de lignes ou de colonnes ?"
   ]
  },
  {
   "cell_type": "code",
   "execution_count": null,
   "metadata": {},
   "outputs": [],
   "source": []
  },
  {
   "cell_type": "markdown",
   "metadata": {},
   "source": [
    "21.Faites l’extraction des colonnes d’indice impaire de B."
   ]
  },
  {
   "cell_type": "code",
   "execution_count": null,
   "metadata": {},
   "outputs": [],
   "source": []
  },
  {
   "cell_type": "markdown",
   "metadata": {},
   "source": [
    "22. Obtenir la transposition de matrice B"
   ]
  },
  {
   "cell_type": "code",
   "execution_count": null,
   "metadata": {},
   "outputs": [],
   "source": []
  },
  {
   "cell_type": "markdown",
   "metadata": {},
   "source": [
    "# Ex. 2 : Des vraies données"
   ]
  },
  {
   "cell_type": "markdown",
   "metadata": {},
   "source": [
    "1. Récupérez le fichier data1.dat sur moodle (les données du TP1 dans l’onglet TP). Copiez le dans le répertoire courant. Chargez les données du fichier data1.dat  et vérifiez que vous l’avez bien fait."
   ]
  },
  {
   "cell_type": "code",
   "execution_count": null,
   "metadata": {},
   "outputs": [],
   "source": []
  },
  {
   "cell_type": "code",
   "execution_count": null,
   "metadata": {},
   "outputs": [],
   "source": []
  },
  {
   "cell_type": "markdown",
   "metadata": {},
   "source": [
    "2.Quelles sont les dimensions des données? Combien y a t’il d’observations n et de variables p ?"
   ]
  },
  {
   "cell_type": "code",
   "execution_count": null,
   "metadata": {},
   "outputs": [],
   "source": []
  },
  {
   "cell_type": "markdown",
   "metadata": {},
   "source": [
    "3. Nous allons travailler sur la treizième variable. Il faut donc extraire la variable indicée par 12 du tableau data1 et affectez la à une variable `x`. Quelle est la nature de cette variable ?"
   ]
  },
  {
   "cell_type": "code",
   "execution_count": null,
   "metadata": {},
   "outputs": [],
   "source": []
  },
  {
   "cell_type": "markdown",
   "metadata": {},
   "source": [
    "4. Calculez la moyenne de la variable x ."
   ]
  },
  {
   "cell_type": "code",
   "execution_count": null,
   "metadata": {},
   "outputs": [],
   "source": []
  }
 ],
 "metadata": {
  "kernelspec": {
   "display_name": "Python 3",
   "language": "python",
   "name": "python3"
  },
  "language_info": {
   "codemirror_mode": {
    "name": "ipython",
    "version": 3
   },
   "file_extension": ".py",
   "mimetype": "text/x-python",
   "name": "python",
   "nbconvert_exporter": "python",
   "pygments_lexer": "ipython3",
   "version": "3.7.4"
  }
 },
 "nbformat": 4,
 "nbformat_minor": 2
}
