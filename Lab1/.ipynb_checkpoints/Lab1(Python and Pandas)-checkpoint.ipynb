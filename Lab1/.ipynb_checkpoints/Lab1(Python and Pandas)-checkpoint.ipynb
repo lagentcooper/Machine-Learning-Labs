{
 "cells": [
  {
   "cell_type": "markdown",
   "metadata": {
    "id": "qbwtOnWbXDt-"
   },
   "source": [
    "# Lab 1"
   ]
  },
  {
   "cell_type": "markdown",
   "metadata": {
    "id": "NfMA9SbRXDuF"
   },
   "source": [
    "You are given the following int variable _x1_"
   ]
  },
  {
   "cell_type": "code",
   "execution_count": 8,
   "metadata": {
    "id": "bl2wIAfSXDuF",
    "tags": []
   },
   "outputs": [
    {
     "data": {
      "text/plain": [
       "3286"
      ]
     },
     "execution_count": 8,
     "metadata": {},
     "output_type": "execute_result"
    }
   ],
   "source": [
    "x1 = 3286\n",
    "x1"
   ]
  },
  {
   "cell_type": "markdown",
   "metadata": {
    "id": "TAQDczvLXDuG"
   },
   "source": [
    "**1**- Complete the code below to transform _x1_ into a string *x1_str*. Extract the four digits and compute *x1_reverse* by taking the digits of _x1_ backward. *x1_reverse* should be an **integer** equal to 6823\n"
   ]
  },
  {
   "cell_type": "code",
   "execution_count": 11,
   "metadata": {
    "id": "Jl5MRAXBXDuG",
    "tags": []
   },
   "outputs": [
    {
     "name": "stdout",
     "output_type": "stream",
     "text": [
      "first digit = 3, second = 2, third = 8, fourth = 6\n",
      "the reverse number of x1 = 3286\n"
     ]
    }
   ],
   "source": [
    "x1_str = str(x1)\n",
    "digit_1 = x1_str[0]\n",
    "digit_2 = x1_str[1]\n",
    "digit_3 = x1_str[2]\n",
    "digit_4 = x1_str[3]\n",
    "\n",
    "x1_reverse = digit_1+digit_2+digit_3+digit_4\n",
    "\n",
    "print(\"first digit = %s, second = %s, third = %s, fourth = %s\" % (digit_1, digit_2, digit_3, digit_4))\n",
    "print(\"the reverse number of x1 =\", x1_reverse)"
   ]
  },
  {
   "cell_type": "markdown",
   "metadata": {
    "id": "WujT2YdwXDuG"
   },
   "source": [
    "**2**- Write a function that takes as input a number with any given length and returns its reversed one.     \n",
    "For example: `reverse_number(274) = 472, reverse_number(15739) = 93751`.   \n",
    "**Hint** You can use negative indexing. For example: `\"ABCD\"[-1] = D`"
   ]
  },
  {
   "cell_type": "code",
   "execution_count": 4,
   "metadata": {
    "id": "5_Ovi5duXDuH",
    "tags": []
   },
   "outputs": [
    {
     "name": "stdout",
     "output_type": "stream",
     "text": [
      "472\n",
      "93751\n"
     ]
    }
   ],
   "source": [
    "def reverse_number(x):\n",
    "    x_string = str(x)\n",
    "    x_reverse = x_string[::-1]\n",
    "    print(x_reverse)\n",
    "    \n",
    "reverse_number(274)\n",
    "reverse_number(15739)"
   ]
  },
  {
   "cell_type": "markdown",
   "metadata": {
    "id": "XMoPl8tIXDuH"
   },
   "source": [
    "A **palindromic** number or numeral palindrome is a number that remains the same when its digits are reversed, like 16461. See [wikipedia](https://en.wikipedia.org/wiki/Palindromic_number)      \n",
    "**3**- Write a function that returns _True_ when a number is palindromic and _False_ when not"
   ]
  },
  {
   "cell_type": "code",
   "execution_count": 5,
   "metadata": {
    "id": "vRAeC0SHXDuH",
    "tags": []
   },
   "outputs": [
    {
     "data": {
      "text/plain": [
       "True"
      ]
     },
     "execution_count": 5,
     "metadata": {},
     "output_type": "execute_result"
    }
   ],
   "source": [
    "def is_palindromic(x):\n",
    "    reversed = int(str(x)[::-1])\n",
    "    if reversed == x:\n",
    "        return True\n",
    "    else:\n",
    "        return False\n",
    "    # your code here\n",
    "\n",
    "is_palindromic(16461)"
   ]
  },
  {
   "cell_type": "markdown",
   "metadata": {
    "id": "SD4mUkLOXDuH"
   },
   "source": [
    "**4**- Create a dictionary containing two keys:\n",
    "* number: numbers between 10 and 99\n",
    "* palindromic ?: a Boolean whether or not the number is palindromic or not\n",
    "\n",
    "It should look like this: `dic = {'number': [10,11,12 ...], 'palindromic ?':[False,True,False,....]}`"
   ]
  },
  {
   "cell_type": "code",
   "execution_count": 6,
   "metadata": {
    "id": "IsWxov4YXDuI",
    "tags": []
   },
   "outputs": [
    {
     "name": "stdout",
     "output_type": "stream",
     "text": [
      "{'number': [10, 11, 12, 13, 14, 15, 16, 17, 18, 19, 20, 21, 22, 23, 24, 25, 26, 27, 28, 29, 30, 31, 32, 33, 34, 35, 36, 37, 38, 39, 40, 41, 42, 43, 44, 45, 46, 47, 48, 49, 50, 51, 52, 53, 54, 55, 56, 57, 58, 59, 60, 61, 62, 63, 64, 65, 66, 67, 68, 69, 70, 71, 72, 73, 74, 75, 76, 77, 78, 79, 80, 81, 82, 83, 84, 85, 86, 87, 88, 89, 90, 91, 92, 93, 94, 95, 96, 97, 98, 99], 'palindromic ?': [False, True, False, False, False, False, False, False, False, False, False, False, True, False, False, False, False, False, False, False, False, False, False, True, False, False, False, False, False, False, False, False, False, False, True, False, False, False, False, False, False, False, False, False, False, True, False, False, False, False, False, False, False, False, False, False, True, False, False, False, False, False, False, False, False, False, False, True, False, False, False, False, False, False, False, False, False, False, True, False, False, False, False, False, False, False, False, False, False, True]}\n"
     ]
    }
   ],
   "source": [
    "dic = {'number':[],'palindromic ?': []}\n",
    "# your code here\n",
    "n = int(99)\n",
    "for i in range (10,n+1):\n",
    "    dic[\"number\"].append(i) \n",
    "\n",
    "    if(is_palindromic(i)):\n",
    "        dic['palindromic ?'].append(True)\n",
    "    else:\n",
    "        dic['palindromic ?'].append(False)\n",
    "\n",
    "print(dic)"
   ]
  },
  {
   "cell_type": "markdown",
   "metadata": {
    "id": "khb__odCXDuI"
   },
   "source": [
    "**5**- Create a dataframe _df_ from _dic_ and print the head of _df_, its shape, and the data type of each column"
   ]
  },
  {
   "cell_type": "code",
   "execution_count": null,
   "metadata": {
    "collapsed": true,
    "id": "cYUexAv4XDuI",
    "jupyter": {
     "outputs_hidden": true
    },
    "scrolled": true
   },
   "outputs": [],
   "source": [
    "# your code here\n",
    "df = pd.DataFrame.from_dict(dic)\n",
    "# head of df\n",
    "print(df.head())\n",
    "# your code here"
   ]
  },
  {
   "cell_type": "code",
   "execution_count": null,
   "metadata": {
    "collapsed": true,
    "id": "nT8rSZhzXDuI",
    "jupyter": {
     "outputs_hidden": true
    }
   },
   "outputs": [],
   "source": [
    "# shape of df\n",
    "print(df.shape)\n",
    "# your code here"
   ]
  },
  {
   "cell_type": "code",
   "execution_count": null,
   "metadata": {
    "collapsed": true,
    "id": "0qMO7g7uXDuI",
    "jupyter": {
     "outputs_hidden": true
    }
   },
   "outputs": [],
   "source": [
    "# data type of each column\n",
    "print(df.dtypes)\n",
    "# your code here"
   ]
  },
  {
   "cell_type": "markdown",
   "metadata": {
    "id": "G7Aw8u8xXDuJ"
   },
   "source": [
    "**6**- How many palindromic numbers are there in _df_. **Hint**: Booleans are considered as 0, 1. For example: `sum([True, False, True]) = 2`.   \n",
    "Filter _df_ to print only rows with palindromic numbers.   "
   ]
  },
  {
   "cell_type": "code",
   "execution_count": null,
   "metadata": {
    "collapsed": true,
    "id": "C507Fq_SXDuJ",
    "jupyter": {
     "outputs_hidden": true
    }
   },
   "outputs": [],
   "source": [
    "# your code here\n",
    "print(\"Number of palindromic = \", df[\"palindromic ?\"].sum())\n",
    "\n",
    "for number, palindromic in df.values:\n",
    "    if(palindromic == 1):\n",
    "        print(number, \":\", palindromic)"
   ]
  },
  {
   "cell_type": "markdown",
   "metadata": {
    "id": "aRnZ1SkjXDuJ"
   },
   "source": [
    "A [nontrivial reverse number](https://en.wikipedia.org/wiki/Reverse_divisible_number) is a either 1/4 or 1/9 of its reversal.     \n",
    "For example: 1089 × 9 = 9801, the reversal of 1089.    \n",
    "**7**- Write a function that checks whether a number is a nontrivial reverse number. The response for the following three tests should be `True`, `False`, `False`.     \n",
    "Use your function to identify all the nontrivial reverse numbers that are below 100 000. **Hint**: there are four"
   ]
  },
  {
   "cell_type": "code",
   "execution_count": null,
   "metadata": {
    "collapsed": true,
    "id": "Hn-TTvmaXDuJ",
    "jupyter": {
     "outputs_hidden": true
    }
   },
   "outputs": [],
   "source": [
    "def is_nontrivial_reverse_number(x):\n",
    "    # your code here\n",
    "\n",
    "print(is_nontrivial_reverse_number(1089))\n",
    "print(is_nontrivial_reverse_number(2000))\n",
    "print(is_nontrivial_reverse_number(7887))"
   ]
  },
  {
   "cell_type": "code",
   "execution_count": null,
   "metadata": {
    "collapsed": true,
    "id": "dzxgRhfnXDuJ",
    "jupyter": {
     "outputs_hidden": true
    }
   },
   "outputs": [],
   "source": [
    "# nontrivial reverse numbers below 100 000\n",
    "\n",
    "# your code here"
   ]
  },
  {
   "cell_type": "markdown",
   "metadata": {
    "id": "ZVDL2A8wXDuJ"
   },
   "source": [
    "**8**- Read the csv file _\"titanic.csv\"_ into a dataframe _titanic_. Print its shape and head"
   ]
  },
  {
   "cell_type": "code",
   "execution_count": null,
   "metadata": {
    "collapsed": true,
    "id": "B4p5Z-srXDuK",
    "jupyter": {
     "outputs_hidden": true
    },
    "scrolled": true
   },
   "outputs": [],
   "source": [
    "# your code here"
   ]
  },
  {
   "cell_type": "markdown",
   "metadata": {
    "id": "w54UWrjXXDuK"
   },
   "source": [
    "**9**- Print the names of titanic columns. Remove the column _\"Cabin\"_ and print again the names of titanic columns"
   ]
  },
  {
   "cell_type": "code",
   "execution_count": null,
   "metadata": {
    "collapsed": true,
    "id": "87dptYERXDuK",
    "jupyter": {
     "outputs_hidden": true
    }
   },
   "outputs": [],
   "source": [
    "# print column names\n",
    "# your code here\n",
    "\n",
    "# drop the column : \"Cabin\n",
    "# your code here\n",
    "\n",
    "# make sur it is removed by printing again column names\n",
    "# your code here"
   ]
  },
  {
   "cell_type": "markdown",
   "metadata": {
    "id": "dX-1PYJMXDuK"
   },
   "source": [
    "**10**- Print the number of null values for each column. Replace null values in _\"Age\"_ by the average age, and null values in _\"Embarked\"_ by the most frequent value _\"S\"_. Print again the number of null values for each column"
   ]
  },
  {
   "cell_type": "code",
   "execution_count": null,
   "metadata": {
    "collapsed": true,
    "id": "cJoHUy5pXDuK",
    "jupyter": {
     "outputs_hidden": true
    }
   },
   "outputs": [],
   "source": [
    "# print number of null values for each column\n",
    "# your code here"
   ]
  },
  {
   "cell_type": "code",
   "execution_count": null,
   "metadata": {
    "collapsed": true,
    "id": "jtrK06AsXDuK",
    "jupyter": {
     "outputs_hidden": true
    }
   },
   "outputs": [],
   "source": [
    "# Replace null values\n",
    "# your code here"
   ]
  },
  {
   "cell_type": "code",
   "execution_count": null,
   "metadata": {
    "collapsed": true,
    "id": "44Mo_X8NXDuL",
    "jupyter": {
     "outputs_hidden": true
    }
   },
   "outputs": [],
   "source": [
    "# print again number of null values for each column\n",
    "# your code here"
   ]
  },
  {
   "cell_type": "code",
   "execution_count": null,
   "metadata": {
    "collapsed": true,
    "id": "LrvK41wZXDuL",
    "jupyter": {
     "outputs_hidden": true
    }
   },
   "outputs": [],
   "source": []
  }
 ],
 "metadata": {
  "anaconda-cloud": {},
  "colab": {
   "name": "Assignment 1_2019.ipynb",
   "provenance": []
  },
  "kernelspec": {
   "display_name": "Python 3 (ipykernel)",
   "language": "python",
   "name": "python3"
  },
  "language_info": {
   "codemirror_mode": {
    "name": "ipython",
    "version": 3
   },
   "file_extension": ".py",
   "mimetype": "text/x-python",
   "name": "python",
   "nbconvert_exporter": "python",
   "pygments_lexer": "ipython3",
   "version": "3.9.7"
  }
 },
 "nbformat": 4,
 "nbformat_minor": 4
}
